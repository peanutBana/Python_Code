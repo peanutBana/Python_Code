{
 "cells": [
  {
   "cell_type": "code",
   "execution_count": 3,
   "metadata": {},
   "outputs": [
    {
     "name": "stdout",
     "output_type": "stream",
     "text": [
      "알파벳을 입력하시오 : e\n",
      "e는 모음입니다.\n"
     ]
    }
   ],
   "source": [
    "#4.1\n",
    "\n",
    "word = input(\"알파벳을 입력하시오 : \")\n",
    "\n",
    "for i in word:\n",
    "    if i in ['a','e','i','o','u']:\n",
    "        print(f\"{i}(은)는 모음입니다.\")\n",
    "    else:\n",
    "        print(f\"{i}(은)는 자음입니다.\")"
   ]
  },
  {
   "cell_type": "code",
   "execution_count": 17,
   "metadata": {},
   "outputs": [
    {
     "name": "stdout",
     "output_type": "stream",
     "text": [
      "세 정수를 입력하시오 : 9 4 122\n",
      "122 9 4\n"
     ]
    }
   ],
   "source": [
    "#4-2\n",
    "\n",
    "a,b,c = map(int,input(\"세 정수를 입력하시오 : \").split(\" \"))\n",
    "\n",
    "if a>b and b>c:\n",
    "    print(a,b,c)\n",
    "elif a>c and c>b:\n",
    "    print(a,c,b)\n",
    "elif b>a and a>c:\n",
    "    print(b,a,c)\n",
    "elif b>c and c>a:\n",
    "    print(b,c,a)\n",
    "elif c>a and a>b:\n",
    "    print(c,a,b)\n",
    "else:\n",
    "    print(c,b,a)"
   ]
  },
  {
   "cell_type": "code",
   "execution_count": 22,
   "metadata": {},
   "outputs": [
    {
     "name": "stdout",
     "output_type": "stream",
     "text": [
      "나이를 입력하시오 : 5\n",
      "Kid\n"
     ]
    }
   ],
   "source": [
    "#4.3\n",
    "\n",
    "age = int(input(\"나이를 입력하시오 : \"))\n",
    "\n",
    "if age >= 20:\n",
    "    print(\"Adult\")\n",
    "elif age >= 10 and age < 20:\n",
    "    print(\"Youth\")\n",
    "elif age < 10:\n",
    "    print(\"Kid\")\n"
   ]
  },
  {
   "cell_type": "code",
   "execution_count": 24,
   "metadata": {},
   "outputs": [
    {
     "name": "stdout",
     "output_type": "stream",
     "text": [
      "정수를 입력하시오 : 34\n",
      "34는(은) 2(으)로 나누어 집니다\n",
      "34는(은) 3(으)로 나누어 떨어지지 않습니다\n",
      "34는(은) 2와(과) 3 모두로 나누어 떨어지지 않습니다\n"
     ]
    }
   ],
   "source": [
    "#4.4\n",
    "\n",
    "n = int(input(\"정수를 입력하시오 : \"))\n",
    "\n",
    "if n%2 == 0:\n",
    "    print(f\"{n}는(은) 2(으)로 나누어 집니다\")\n",
    "else:\n",
    "    print(f\"{n}는(은) 2(으)로 나누어 떨어지지 않습니다\")\n",
    "if n%3 ==0:\n",
    "    print(f\"{n}는(은) 3(으)로 나누어 집니다\")\n",
    "else:\n",
    "    print(f\"{n}는(은) 3(으)로 나누어 떨어지지 않습니다\")\n",
    "if n%2==0 and n%3==0:\n",
    "    print(f\"{n}는(은) 2와(과) 3 모드로 나누어 떨어집니다.\")\n",
    "else:\n",
    "    print(f\"{n}는(은) 2와(과) 3 모드로 나누어 떨어지지 않습니다.\")\n",
    "\n",
    "    "
   ]
  },
  {
   "cell_type": "code",
   "execution_count": 34,
   "metadata": {},
   "outputs": [
    {
     "name": "stdout",
     "output_type": "stream",
     "text": [
      "세 복권번호를 입력하시오 : 10 20 3\n"
     ]
    },
    {
     "data": {
      "text/plain": [
       "[4, 7, 6]"
      ]
     },
     "execution_count": 34,
     "metadata": {},
     "output_type": "execute_result"
    }
   ],
   "source": [
    "#4.5   아몰랑\n",
    "\n",
    "import random\n",
    "\n",
    "\n",
    "lst = []\n",
    "n1 = random.randint(0,9)\n",
    "n2 = random.randint(0,9)\n",
    "n3 = random.randint(0,9)\n",
    "\n",
    "lst.append(n1)\n",
    "lst.append(n2)\n",
    "lst.append(n3)\n",
    "\n",
    "nums = [int(x) for x in input(\"정수를 여러 개 입력하시오 : \").split(\" \")]\n",
    "li = list(nums)\n",
    "\n",
    "if lst in li  :\n",
    "    \n",
    "    \n",
    "    \n"
   ]
  },
  {
   "cell_type": "code",
   "execution_count": 4,
   "metadata": {},
   "outputs": [
    {
     "name": "stdout",
     "output_type": "stream",
     "text": [
      "우리 식당에 오신것을 환영합니다. 메뉴는 다음과 같습니다.\n",
      " - 햄버거(입력 b)\n",
      " - 치킨(입력 c)\n",
      " - 피자(입력 p)\n",
      "\n",
      "메뉴를 선택하세요(알파벳 b, c, p 입력) : c\n",
      "치킨을 선택하였습니다.\n"
     ]
    }
   ],
   "source": [
    "#4.6\n",
    "\n",
    "print(\"\"\"우리 식당에 오신것을 환영합니다. 메뉴는 다음과 같습니다.\n",
    " - 햄버거(입력 b)\n",
    " - 치킨(입력 c)\n",
    " - 피자(입력 p)\n",
    "\"\"\")\n",
    "\n",
    "order = input(\"메뉴를 선택하세요(알파벳 b, c, p 입력) : \")\n",
    "\n",
    "if order == \"b\":\n",
    "    print(\"햄버거를 선택하였습니다.\")\n",
    "elif order == \"c\":\n",
    "    print(\"치킨을 선택하였습니다.\")\n",
    "elif order == \"p\":\n",
    "    print(\"피자를 선택하였습니다.\")\n",
    "else:\n",
    "    print(\"선택한 메뉴가 없습니다.\")"
   ]
  },
  {
   "cell_type": "code",
   "execution_count": 2,
   "metadata": {},
   "outputs": [
    {
     "name": "stdout",
     "output_type": "stream",
     "text": [
      "12+99 = 111\n",
      "정답은 111입니다.\n",
      "\n",
      "98+94 = 43\n",
      "정답은 192입니다.\n",
      "\n",
      "66+22 = 0\n",
      "break!\n"
     ]
    }
   ],
   "source": [
    "#4.7\n",
    "\n",
    "import random\n",
    "\n",
    "while True: \n",
    "    n1 = random.randint(1,100) \n",
    "    n2 = random.randint(1,100)\n",
    "    print(f\"{n1}+{n2} = \",end=\"\")\n",
    "    ans = input(\"\")\n",
    "\n",
    "    if ans == n1+n2:\n",
    "          print(\"잘했어요!!\\n\")\n",
    "    elif ans == \"0\":\n",
    "        break\n",
    "    else:\n",
    "        print(f\"정답은 {n1+n2}입니다.\\n\")   \n",
    "print(\"break!\")"
   ]
  },
  {
   "cell_type": "code",
   "execution_count": 5,
   "metadata": {},
   "outputs": [
    {
     "name": "stdout",
     "output_type": "stream",
     "text": [
      "1)덧셈 2)뺄셈 3)곱셈 4)나눗셈\n",
      "어떤 연산을 원하는지 번호를 입력하세요 : 4\n",
      "연산을 원하는 숫자 두개를 입력하세요 4 6\n",
      "4/6 = 0.6666666666666666\n",
      "\n",
      "1)덧셈 2)뺄셈 3)곱셈 4)나눗셈\n",
      "어떤 연산을 원하는지 번호를 입력하세요 : 5\n",
      "연산을 원하는 숫자 두개를 입력하세요 5 6\n",
      "잘못 입력하였습니다.\n"
     ]
    }
   ],
   "source": [
    "#4.8\n",
    "while True:\n",
    "    print(\"1)덧셈 2)뺄셈 3)곱셈 4)나눗셈\")\n",
    "    n = int(input(\"어떤 연산을 원하는지 번호를 입력하세요 : \"))\n",
    "\n",
    "    n1, n2 = map(int,input(\"연산을 원하는 숫자 두개를 입력하세요 \").split(\" \"))\n",
    "\n",
    "    if n == 1:\n",
    "        print(f\"{n1}+{n2} = {n1+n2}\\n\")\n",
    "    elif n == 2:\n",
    "        print(f\"{n1}-{n2} = {n1-n2}\\n\")\n",
    "    elif n == 3:\n",
    "        print(f\"{n1}*{n2} = {n1*n2}\\n\")\n",
    "    elif n == 4:\n",
    "        print(f\"{n1}/{n2} = {n1/n2}\\n\")\n",
    "    else:\n",
    "        print(\"잘못 입력하였습니다.\")\n",
    "        break  "
   ]
  },
  {
   "cell_type": "code",
   "execution_count": null,
   "metadata": {},
   "outputs": [],
   "source": [
    "#4.9 아몰랑\n"
   ]
  }
 ],
 "metadata": {
  "kernelspec": {
   "display_name": "Python 3",
   "language": "python",
   "name": "python3"
  },
  "language_info": {
   "codemirror_mode": {
    "name": "ipython",
    "version": 3
   },
   "file_extension": ".py",
   "mimetype": "text/x-python",
   "name": "python",
   "nbconvert_exporter": "python",
   "pygments_lexer": "ipython3",
   "version": "3.8.5"
  }
 },
 "nbformat": 4,
 "nbformat_minor": 4
}
