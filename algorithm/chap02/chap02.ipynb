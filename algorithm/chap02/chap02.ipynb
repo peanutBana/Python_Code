{
 "cells": [
  {
   "cell_type": "code",
   "execution_count": 3,
   "id": "2cd4233d",
   "metadata": {},
   "outputs": [
    {
     "name": "stdout",
     "output_type": "stream",
     "text": [
      "난수의 개수를 입력하세요: 5\n",
      "난수의 최솟값을 입력하세요: 1\n",
      "난수의 최댓값을 입력하세요: 9\n",
      "[1, 2, 4, 9, 9]\n",
      "이 가운데 최댓값은 9입니다.\n"
     ]
    }
   ],
   "source": [
    "# 배열 원소의 최댓값을 구해서 출력하기 \n",
    "\n",
    "import random\n",
    "from max import max_of\n",
    "\n",
    "num = int(input('난수의 개수를 입력하세요: '))\n",
    "lo =  int(input('난수의 최솟값을 입력하세요: '))\n",
    "hi =  int(input('난수의 최댓값을 입력하세요: '))\n",
    "\n",
    "x = [None] * num\n",
    "\n",
    "for i in range(num):\n",
    "    x[i] = random.randint(lo,hi)\n",
    "\n",
    "print(f'{(x)}')\n",
    "print(f'이 가운데 최댓값은 {max_of(x)}입니다.')"
   ]
  },
  {
   "cell_type": "code",
   "execution_count": 10,
   "id": "477884ef",
   "metadata": {},
   "outputs": [
    {
     "name": "stdout",
     "output_type": "stream",
     "text": [
      "x[1] = A\n",
      "x[2] = B\n",
      "x[3] = C\n",
      "x[4] = D\n"
     ]
    }
   ],
   "source": [
    "#list2.py\n",
    "\n",
    "x = ['A','B','C','D']\n",
    "\n",
    "for i, name in enumerate(x,1):\n",
    "    print(f'x[{i}] = {name}')"
   ]
  },
  {
   "cell_type": "markdown",
   "id": "172b0d53",
   "metadata": {},
   "source": [
    "#### reverse.py\n",
    "\n",
    "from typing import Any, MutableSequence\n",
    "\n",
    "def reverse_array(a: MutableSequence) -> None:\n",
    "    n = len(a)\n",
    "    for i in range(n //2):\n",
    "        a[i], a[n-i-1] = a[n-i-1], a[i]\n",
    "        \n",
    "if __name__ == '__main__':\n",
    "    nx = int(input(\"원소의 수를 입력하세요 : \"))\n",
    "    x = [None] * nx\n",
    "    \n",
    "    for i in range(nx):\n",
    "        x[i] = int(input(f'x[{i}]의 값을 입력하세요 : '))\n",
    "        \n",
    "        reverse_array(x)\n",
    "        \n",
    "        for i in range(nx):\n",
    "            print(f'x[{i}] = {x[i]}')"
   ]
  }
 ],
 "metadata": {
  "kernelspec": {
   "display_name": "Python 3 (ipykernel)",
   "language": "python",
   "name": "python3"
  },
  "language_info": {
   "codemirror_mode": {
    "name": "ipython",
    "version": 3
   },
   "file_extension": ".py",
   "mimetype": "text/x-python",
   "name": "python",
   "nbconvert_exporter": "python",
   "pygments_lexer": "ipython3",
   "version": "3.10.9"
  }
 },
 "nbformat": 4,
 "nbformat_minor": 5
}
