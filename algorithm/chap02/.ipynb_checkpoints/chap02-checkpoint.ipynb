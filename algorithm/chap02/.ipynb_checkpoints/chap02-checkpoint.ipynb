{
 "cells": [
  {
   "cell_type": "code",
   "execution_count": null,
   "id": "2cd4233d",
   "metadata": {},
   "outputs": [],
   "source": [
    "# 배열 원소의 최댓값을 구해서 출력하기 \n",
    "\n",
    "import random\n",
    "from max import max_of\n",
    "\n",
    "num = int(input('난수의 개수를 입력하세요: '))\n",
    "lo =  int(input('난수의 최솟값을 입력하세요: '))\n",
    "hi =  int(input('난수의 최댓값을 입력하세요: '))\n",
    "\n",
    "x = [None] * num\n",
    "\n",
    "for i in range(num):\n",
    "    x[i] = random.randint(lo,hi)\n",
    "\n",
    "print(f'{(x)}')\n",
    "print(f'이 가운데 최댓값은 {max_of(x)}입니다.')"
   ]
  },
  {
   "cell_type": "code",
   "execution_count": null,
   "id": "477884ef",
   "metadata": {},
   "outputs": [],
   "source": [
    "#list2.py\n",
    "\n",
    "x = ['A','B','C','D']\n",
    "\n",
    "for i, name in enumerate(x):\n",
    "    print(f'x[{i}] = {name}')"
   ]
  },
  {
   "cell_type": "code",
   "execution_count": null,
   "id": "8b7afc1c",
   "metadata": {},
   "outputs": [],
   "source": []
  }
 ],
 "metadata": {
  "kernelspec": {
   "display_name": "Python 3 (ipykernel)",
   "language": "python",
   "name": "python3"
  },
  "language_info": {
   "codemirror_mode": {
    "name": "ipython",
    "version": 3
   },
   "file_extension": ".py",
   "mimetype": "text/x-python",
   "name": "python",
   "nbconvert_exporter": "python",
   "pygments_lexer": "ipython3",
   "version": "3.10.9"
  }
 },
 "nbformat": 4,
 "nbformat_minor": 5
}
