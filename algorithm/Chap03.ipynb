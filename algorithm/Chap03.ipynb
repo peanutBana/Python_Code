{
 "cells": [
  {
   "cell_type": "markdown",
   "id": "a1f4d93e",
   "metadata": {},
   "source": [
    "## 검색 알고리즘이란?\n",
    "-> 데이터의 집합에서 원하는 값을 가진 원소를 찾아내는 것\n",
    "\n",
    "### 검색의 종류\n",
    "1. 선형 검색 : 무작위로 늘어놓은 데이터 집합에서 검색을 수행\n",
    "2. 이진 검색 : 일정한 규칙으로 늘어놓은 데이터 집합에서 아주 빠른 검색을 수행합니다.\n",
    "3. 해시법 : 추가 / 삭제가 자주 일어나는 데이터 집합에서 아주 빠른 검색을 수행합니다.\n"
   ]
  },
  {
   "cell_type": "code",
   "execution_count": 1,
   "id": "0816b77d",
   "metadata": {},
   "outputs": [
    {
     "ename": "SyntaxError",
     "evalue": "incomplete input (180896722.py, line 8)",
     "output_type": "error",
     "traceback": [
      "\u001b[0;36m  Cell \u001b[0;32mIn[1], line 8\u001b[0;36m\u001b[0m\n\u001b[0;31m    while True:\u001b[0m\n\u001b[0m               ^\u001b[0m\n\u001b[0;31mSyntaxError\u001b[0m\u001b[0;31m:\u001b[0m incomplete input\n"
     ]
    }
   ],
   "source": [
    "# search_while.py\n",
    "from typing import Any, Sequence\n",
    "\n",
    "def seq_search(a: Sequence, key: Any) -> int:\n",
    "    '''시퀀스 a에서 key와 값이 같은 원소를 선형 검색'''\n",
    "    i = 0\n",
    "    \n",
    "    while True:\n",
    "        if i ==len(a):\n",
    "            return -1\n",
    "        if a[i] == key:\n",
    "            return i\n",
    "        i += 1\n",
    "        \n",
    "if __name__ == '__main__':\n",
    "    num = int(input('원소의 수를 입력하세요 : ')) \n",
    "    x = [None] * num\n",
    "    \n",
    "    for i in range(num):\n",
    "        x[i] = int(input(f'x[{i}]: '))\n",
    "        \n",
    "    ky = int(input('검색할 값을 입력하세요: '))\n",
    "    \n",
    "    idx"
   ]
  },
  {
   "cell_type": "code",
   "execution_count": null,
   "id": "6933338f",
   "metadata": {},
   "outputs": [],
   "source": []
  }
 ],
 "metadata": {
  "kernelspec": {
   "display_name": "Python 3 (ipykernel)",
   "language": "python",
   "name": "python3"
  },
  "language_info": {
   "codemirror_mode": {
    "name": "ipython",
    "version": 3
   },
   "file_extension": ".py",
   "mimetype": "text/x-python",
   "name": "python",
   "nbconvert_exporter": "python",
   "pygments_lexer": "ipython3",
   "version": "3.10.9"
  }
 },
 "nbformat": 4,
 "nbformat_minor": 5
}
