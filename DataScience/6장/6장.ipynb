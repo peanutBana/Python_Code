{
 "cells": [
  {
   "cell_type": "code",
   "execution_count": 3,
   "metadata": {},
   "outputs": [
    {
     "data": {
      "text/plain": [
       "'010-9515-9136'"
      ]
     },
     "execution_count": 3,
     "metadata": {},
     "output_type": "execute_result"
    }
   ],
   "source": [
    "#6-1-1\n",
    "\n",
    "def print_company_address():\n",
    "    num=(\"010-9515-9136\")\n",
    "    return num\n",
    "\n",
    "print_company_address()"
   ]
  },
  {
   "cell_type": "code",
   "execution_count": 2,
   "metadata": {},
   "outputs": [
    {
     "data": {
      "text/plain": [
       "'********************'"
      ]
     },
     "execution_count": 2,
     "metadata": {},
     "output_type": "execute_result"
    }
   ],
   "source": [
    "#6-1-2\n",
    "def print_star():\n",
    "    return \"*\"*20\n",
    "\n",
    "print_star()"
   ]
  },
  {
   "cell_type": "code",
   "execution_count": 1,
   "metadata": {},
   "outputs": [
    {
     "name": "stdout",
     "output_type": "stream",
     "text": [
      "이름 : 박민우\n",
      "주소 : 경기도 화성기 동탄기흥로353번길77\n"
     ]
    }
   ],
   "source": [
    "#6-2\n",
    "\n",
    "def print_address2(name, address):\n",
    "    print(f\"이름 : {name}\")\n",
    "    print(f\"주소 : {address}\")\n",
    "\n",
    "print_address2(\"박민우\",\"경기도 화성기 동탄기흥로353번길77\")\n",
    "    "
   ]
  },
  {
   "cell_type": "code",
   "execution_count": 1,
   "metadata": {},
   "outputs": [
    {
     "ename": "TypeError",
     "evalue": "get_square() takes 0 positional arguments but 3 were given",
     "output_type": "error",
     "traceback": [
      "\u001b[1;31m---------------------------------------------------------------------------\u001b[0m",
      "\u001b[1;31mTypeError\u001b[0m                                 Traceback (most recent call last)",
      "\u001b[1;32m<ipython-input-1-b9bc3a4ba054>\u001b[0m in \u001b[0;36m<module>\u001b[1;34m\u001b[0m\n\u001b[0;32m      4\u001b[0m \u001b[1;32mdef\u001b[0m \u001b[0mget_square\u001b[0m\u001b[1;33m(\u001b[0m\u001b[1;33m)\u001b[0m\u001b[1;33m:\u001b[0m\u001b[1;33m\u001b[0m\u001b[1;33m\u001b[0m\u001b[0m\n\u001b[0;32m      5\u001b[0m     \u001b[0mprint\u001b[0m\u001b[1;33m(\u001b[0m\u001b[1;34mf\"{a}제곱:{a*a} {b}제곱:{b**2} {c}제곱:{c**2}\"\u001b[0m\u001b[1;33m)\u001b[0m\u001b[1;33m\u001b[0m\u001b[1;33m\u001b[0m\u001b[0m\n\u001b[1;32m----> 6\u001b[1;33m \u001b[0ma_sq\u001b[0m\u001b[1;33m,\u001b[0m \u001b[0mb_sq\u001b[0m\u001b[1;33m,\u001b[0m \u001b[0mc_sq\u001b[0m \u001b[1;33m=\u001b[0m \u001b[0mget_square\u001b[0m\u001b[1;33m(\u001b[0m\u001b[0ma\u001b[0m\u001b[1;33m,\u001b[0m\u001b[0mb\u001b[0m\u001b[1;33m,\u001b[0m\u001b[0mc\u001b[0m\u001b[1;33m)\u001b[0m\u001b[1;33m\u001b[0m\u001b[1;33m\u001b[0m\u001b[0m\n\u001b[0m",
      "\u001b[1;31mTypeError\u001b[0m: get_square() takes 0 positional arguments but 3 were given"
     ]
    }
   ],
   "source": [
    "# 6-3\n",
    "a,b,c = 1,2,3\n",
    "\n",
    "def get_square():\n",
    "    print(f\"{a}제곱:{a*a} {b}제곱:{b**2} {c}제곱:{c**2}\")\n",
    "a_sq, b_sq, c_sq = get_square(a,b,c)"
   ]
  },
  {
   "cell_type": "code",
   "execution_count": null,
   "metadata": {},
   "outputs": [],
   "source": [
    "#LAB 6-1\n",
    "import turtle\n",
    "t = turtle.Turtle()\n",
    "t.shape(\"turtle\")\n",
    "\n",
    "def square(l):\n",
    "    for _ in range(4):\n",
    "        t.forward(l)\n",
    "        t.left(90)\n",
    "square(100)\n",
    "square(200)\n",
    "square(300)"
   ]
  },
  {
   "cell_type": "code",
   "execution_count": 2,
   "metadata": {},
   "outputs": [
    {
     "ename": "TypeError",
     "evalue": "n_polygon() missing 1 required positional argument: 'length'",
     "output_type": "error",
     "traceback": [
      "\u001b[1;31m---------------------------------------------------------------------------\u001b[0m",
      "\u001b[1;31mTypeError\u001b[0m                                 Traceback (most recent call last)",
      "\u001b[1;32m<ipython-input-2-5a0ebf791a94>\u001b[0m in \u001b[0;36m<module>\u001b[1;34m\u001b[0m\n\u001b[0;32m      8\u001b[0m \u001b[1;33m\u001b[0m\u001b[0m\n\u001b[0;32m      9\u001b[0m \u001b[1;32mfor\u001b[0m \u001b[0m_\u001b[0m \u001b[1;32min\u001b[0m \u001b[0mrange\u001b[0m\u001b[1;33m(\u001b[0m\u001b[1;36m10\u001b[0m\u001b[1;33m)\u001b[0m\u001b[1;33m:\u001b[0m\u001b[1;33m\u001b[0m\u001b[1;33m\u001b[0m\u001b[0m\n\u001b[1;32m---> 10\u001b[1;33m     \u001b[0mn_polygon\u001b[0m\u001b[1;33m(\u001b[0m\u001b[1;36m6\u001b[0m\u001b[1;33m)\u001b[0m\u001b[1;33m\u001b[0m\u001b[1;33m\u001b[0m\u001b[0m\n\u001b[0m\u001b[0;32m     11\u001b[0m     \u001b[0mt\u001b[0m\u001b[1;33m.\u001b[0m\u001b[0mleft\u001b[0m\u001b[1;33m(\u001b[0m\u001b[1;36m20\u001b[0m\u001b[1;33m)\u001b[0m\u001b[1;33m\u001b[0m\u001b[1;33m\u001b[0m\u001b[0m\n",
      "\u001b[1;31mTypeError\u001b[0m: n_polygon() missing 1 required positional argument: 'length'"
     ]
    }
   ],
   "source": [
    "#LAB 6-2\n",
    "import turtle\n",
    "t = turtle.Turtle()\n",
    "t.shape(\"turtle\")\n",
    "\n",
    "def n_polygon(n,length):\n",
    "    t.forward(50)\n",
    "    t.left(360//n)\n",
    "    \n",
    "for _ in range(10):\n",
    "    t.left(20)\n",
    "    n_polygon(6)\n",
    "    "
   ]
  },
  {
   "cell_type": "code",
   "execution_count": 3,
   "metadata": {},
   "outputs": [
    {
     "name": "stdout",
     "output_type": "stream",
     "text": [
      "시급을 입력하시오 : 10000\n",
      "근무 시간을 입력하시오 : 38\n",
      "주급은 420000.0원\n"
     ]
    }
   ],
   "source": [
    "#LAB 6-3\n",
    "r = int(input(\"시급을 입력하시오 : \"))\n",
    "h = int(input(\"근무 시간을 입력하시오 : \"))\n",
    "\n",
    "def weeklyPay(rate,hour):\n",
    "    pay = r*h\n",
    "    if  h > 30 :\n",
    "        pay = r*30 + r*(h-30)*1.5\n",
    "    print(f\"주급은 {pay}원\")\n",
    "\n",
    "weeklyPay(r,h)"
   ]
  },
  {
   "cell_type": "code",
   "execution_count": 7,
   "metadata": {},
   "outputs": [
    {
     "name": "stdout",
     "output_type": "stream",
     "text": [
      "90\n"
     ]
    }
   ],
   "source": [
    "#LAB 6-4\n",
    "list = [27,90,87,56]\n",
    "\n",
    "def getMinMax(list,method):\n",
    "    if method == \"max\":\n",
    "        print(max(list))\n",
    "    elif method == \"min\":\n",
    "        print(min(list))\n",
    "    else:\n",
    "        print(\"illegal method\")\n",
    "getMinMax(list,\"max\")"
   ]
  },
  {
   "cell_type": "code",
   "execution_count": null,
   "metadata": {},
   "outputs": [],
   "source": [
    "#LAB 6-5\n",
    "\n",
    "import turtle\n",
    "t = turtle.Turtle()\n",
    "t.shape(\"turtle\")\n",
    "\n",
    "list = [120,56,309,220,23,98]\n",
    "\n",
    "def graph(list):\n",
    "    for i in list:\n",
    "        t.left(90)\n",
    "        t.forward(i)\n",
    "        t.right(90)\n",
    "        t.forward(50)\n",
    "        t.right(90)\n",
    "        t.forward(i)\n",
    "        t.left(90)\n",
    "        \n",
    "graph(list)"
   ]
  },
  {
   "cell_type": "code",
   "execution_count": 3,
   "metadata": {},
   "outputs": [],
   "source": [
    "import turtle\n",
    "\n",
    "t = turtle.Turtle()\n",
    "t.shape(\"turtle\")\n",
    "t.speed(0)\n",
    "\n",
    "def f(x):\n",
    "    return x**2 + 1\n",
    "\n",
    "t.goto(200,0)\n",
    "t.goto(0,0)\n",
    "t.goto(0,200)\n",
    "t.goto(0,0)\n",
    "\n",
    "for x in range(150):\n",
    "    t.goto(x, int(0.01*f(x)))"
   ]
  },
  {
   "cell_type": "code",
   "execution_count": null,
   "metadata": {},
   "outputs": [],
   "source": [
    "def factorial(a):\n",
    "    if n <=1:\n",
    "        return 1\n",
    "    else:\n",
    "        return n* factorial(n-1)\n",
    "    \n",
    "factorial(4)"
   ]
  },
  {
   "cell_type": "code",
   "execution_count": 2,
   "metadata": {},
   "outputs": [
    {
     "name": "stdout",
     "output_type": "stream",
     "text": [
      "정수를 입력하세요 : 15\n",
      "377\n"
     ]
    }
   ],
   "source": [
    "#LAB 6-7\n",
    "\n",
    "def fibonacci(n):\n",
    "    if n < 0:\n",
    "        print(\"잘못된 입력입니다.\")\n",
    "    elif n == 1 :\n",
    "        return 0 \n",
    "    elif n == 2:\n",
    "        return 1\n",
    "    else:\n",
    "        return fibonacci(n-1) + fibonacci(n-2)\n",
    "i = int(input(\"정수를 입력하세요 : \"))\n",
    "print(fibonacci(i))"
   ]
  },
  {
   "cell_type": "code",
   "execution_count": 13,
   "metadata": {},
   "outputs": [
    {
     "name": "stdout",
     "output_type": "stream",
     "text": [
      "2021-04-12\n"
     ]
    },
    {
     "data": {
      "text/plain": [
       "12"
      ]
     },
     "execution_count": 13,
     "metadata": {},
     "output_type": "execute_result"
    }
   ],
   "source": [
    "import datetime\n",
    "\n",
    "datetime.datetime.now()\n",
    "today = datetime.date.today()\n",
    "print(today)\n",
    "today.year\n",
    "today.month\n",
    "today.day"
   ]
  },
  {
   "cell_type": "code",
   "execution_count": 20,
   "metadata": {},
   "outputs": [
    {
     "name": "stdout",
     "output_type": "stream",
     "text": [
      "Overwriting my_func.py\n"
     ]
    }
   ],
   "source": [
    "%%writefile my_func.py\n",
    "def mf_print(msg, n=1):\n",
    "    print(msg*n)"
   ]
  },
  {
   "cell_type": "code",
   "execution_count": 3,
   "metadata": {},
   "outputs": [
    {
     "name": "stdout",
     "output_type": "stream",
     "text": [
      "my_func was imported my_func was imported my_func was imported \n"
     ]
    }
   ],
   "source": [
    "#filename : main.py\n",
    "import my_func\n",
    "\n",
    "my_func.mf_print(\"my_func was imported \",3)"
   ]
  },
  {
   "cell_type": "code",
   "execution_count": 5,
   "metadata": {},
   "outputs": [
    {
     "name": "stdout",
     "output_type": "stream",
     "text": [
      "[alias][alias][alias][alias][alias]\n"
     ]
    }
   ],
   "source": [
    "#filename : main.py\n",
    "import my_func as mf\n",
    "mf.mf_print(\"[alias]\",5)"
   ]
  },
  {
   "cell_type": "code",
   "execution_count": 8,
   "metadata": {},
   "outputs": [
    {
     "name": "stdout",
     "output_type": "stream",
     "text": [
      "-no module name- -no module name- \n"
     ]
    }
   ],
   "source": [
    "#filename : main.py\n",
    "from my_func import mf_print\n",
    "mf_print(\"-no module name- \",2)"
   ]
  },
  {
   "cell_type": "code",
   "execution_count": 10,
   "metadata": {},
   "outputs": [
    {
     "name": "stdout",
     "output_type": "stream",
     "text": [
      "-no module name- -no module name- \n"
     ]
    }
   ],
   "source": [
    "#filename : main.py\n",
    "from my_func import *\n",
    "mf_print(\"-no module name- \",2)"
   ]
  },
  {
   "cell_type": "code",
   "execution_count": 23,
   "metadata": {},
   "outputs": [
    {
     "data": {
      "text/plain": [
       "False"
      ]
     },
     "execution_count": 23,
     "metadata": {},
     "output_type": "execute_result"
    }
   ],
   "source": [
    "#7-1\n",
    "black_pink = [\"Jisoo\",\"Jennie\",\"Lisa\",\"Rose\"]\n",
    "\n",
    "\"Jennie\" in black_pink\n",
    "\n",
    "\"Psy\" in black_pink"
   ]
  }
 ],
 "metadata": {
  "kernelspec": {
   "display_name": "Python 3",
   "language": "python",
   "name": "python3"
  },
  "language_info": {
   "codemirror_mode": {
    "name": "ipython",
    "version": 3
   },
   "file_extension": ".py",
   "mimetype": "text/x-python",
   "name": "python",
   "nbconvert_exporter": "python",
   "pygments_lexer": "ipython3",
   "version": "3.8.5"
  }
 },
 "nbformat": 4,
 "nbformat_minor": 4
}
