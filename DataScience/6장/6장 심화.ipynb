{
 "cells": [
  {
   "cell_type": "code",
   "execution_count": 2,
   "metadata": {},
   "outputs": [
    {
     "name": "stdout",
     "output_type": "stream",
     "text": [
      "3의 제곱은 : 9\n",
      "4의 제곱은 : 16\n"
     ]
    }
   ],
   "source": [
    "#6.1\n",
    "\n",
    "def square(n):\n",
    "    return n**2\n",
    "\n",
    "print(f\"3의 제곱은 : {square(3)}\")\n",
    "print(f\"4의 제곱은 : {square(4)}\")"
   ]
  },
  {
   "cell_type": "code",
   "execution_count": 3,
   "metadata": {},
   "outputs": [
    {
     "name": "stdout",
     "output_type": "stream",
     "text": [
      "100과 200중 큰 수는 200\n",
      "100과 200중 작은 수는 100\n"
     ]
    }
   ],
   "source": [
    "#6.2\n",
    "\n",
    "def max2(m,n):\n",
    "    if m > n:\n",
    "        return m\n",
    "    else:\n",
    "        return n\n",
    "    \n",
    "def min2(m,n):\n",
    "    if m > n:\n",
    "        return n\n",
    "    else:\n",
    "        return m\n",
    "print(f\"100과 200중 큰 수는 {max2(100,200)}\")\n",
    "print(f\"100과 200중 작은 수는 {min2(100,200)}\")\n",
    "\n",
    "    "
   ]
  },
  {
   "cell_type": "code",
   "execution_count": 23,
   "metadata": {},
   "outputs": [
    {
     "name": "stdout",
     "output_type": "stream",
     "text": [
      "세 정수를 입력하시오 : 34 66 20\n",
      "가장 큰 수 : 66\n",
      "가장 작은 수 : 20\n"
     ]
    }
   ],
   "source": [
    "#6.3\n",
    "\n",
    "lst = []\n",
    "n1,n2,n3 = map(int,input(\"세 정수를 입력하시오 : \").split())\n",
    "lst.append(n1)\n",
    "lst.append(n2)\n",
    "lst.append(n3)\n",
    "\n",
    "def max3(n1,n2,n3):\n",
    "    return max(lst)\n",
    "def min3(n1,n2,n3):\n",
    "    return min(lst)\n",
    "\n",
    "\n",
    "print(f\"가장 큰 수 : {max3(n1,n2,n3)}\\n가장 작은 수 : {min3(n1,n2,n3)}\")"
   ]
  },
  {
   "cell_type": "code",
   "execution_count": 4,
   "metadata": {},
   "outputs": [
    {
     "name": "stdout",
     "output_type": "stream",
     "text": [
      "세 정수를 입력하시오 : 10 20 30\n",
      "가장 큰 수 : 30\n",
      "가장 작은 수 : 10\n"
     ]
    }
   ],
   "source": [
    "#6.4\n",
    "\n",
    "lst = []\n",
    "n1,n2,n3 = map(int,input(\"세 정수를 입력하시오 : \").split())\n",
    "lst.append(n1)\n",
    "lst.append(n2)\n",
    "lst.append(n3)\n",
    "\n",
    "def max_min(a,b,c):\n",
    "    print(f\"가장 큰 수 : {max(lst)}\")\n",
    "    print(f\"가장 작은 수 : {min(lst)}\")\n",
    "\n",
    "max_min(n1,n2,n3)"
   ]
  },
  {
   "cell_type": "code",
   "execution_count": 17,
   "metadata": {},
   "outputs": [
    {
     "name": "stdout",
     "output_type": "stream",
     "text": [
      "섭씨 1도는 화씨 33.8도\n",
      "섭씨 11도는 화씨 51.8도\n",
      "섭씨 21도는 화씨 69.80000000000001도\n",
      "섭씨 31도는 화씨 87.80000000000001도\n",
      "섭씨 41도는 화씨 105.8도\n"
     ]
    }
   ],
   "source": [
    "#6.5\n",
    "\n",
    "def cel2fah(C):\n",
    "    \n",
    "    for C in range(C,51,10):\n",
    "        F = (9/5)*C+32\n",
    "        print(f\"섭씨 {C}도는 화씨 {F}도\")\n",
    "cel2fah(1)"
   ]
  },
  {
   "cell_type": "code",
   "execution_count": 24,
   "metadata": {},
   "outputs": [
    {
     "name": "stdout",
     "output_type": "stream",
     "text": [
      "소수 검사를 할 정수를 입력하시오 : 13\n",
      "True\n"
     ]
    }
   ],
   "source": [
    "#6.6# 기본적인 소수 판별 방법(2부터 n-1까지 돌려보기)\n",
    "\n",
    "x = int(input(\"소수 검사를 할 정수를 입력하시오 : \"))\n",
    "\n",
    "def is_prime_number(x):\n",
    "  # 2부터 (x - 1)까지의 모든 수를 확인\n",
    "  for i in range(2, x):\n",
    "  # x가 해당 수로 나누어떨어지면\n",
    "    if x % i == 0:\n",
    "        return False\n",
    "    else:\n",
    "        return True\n",
    "  \n",
    "print(is_prime_number(x)) # False\n",
    "\n"
   ]
  },
  {
   "cell_type": "code",
   "execution_count": 39,
   "metadata": {},
   "outputs": [
    {
     "name": "stdout",
     "output_type": "stream",
     "text": [
      "120\n",
      "5040\n",
      "3628800\n"
     ]
    }
   ],
   "source": [
    "#6.7\n",
    "\n",
    "\n",
    "def factorial(n):\n",
    "    fac = 1\n",
    "    for i in range(n,0,-1):\n",
    "       fac*=i \n",
    "    return fac\n",
    "        \n",
    "print(factorial(5))\n",
    "print(factorial(7))\n",
    "print(factorial(10))"
   ]
  },
  {
   "cell_type": "code",
   "execution_count": 45,
   "metadata": {},
   "outputs": [
    {
     "name": "stdout",
     "output_type": "stream",
     "text": [
      "x1 : 4\n",
      "y1 : 2\n",
      "x2 : 2\n",
      "y2 : 1\n",
      "(4,2)와 (2,1) 사이의 거리는 2.5\n"
     ]
    }
   ],
   "source": [
    "#6.8\n",
    "\n",
    "x1 = int(input(\"x1 : \"))\n",
    "y1 = int(input(\"y1 : \"))\n",
    "x2 = int(input(\"x2 : \"))\n",
    "y2 = int(input(\"y2 : \"))\n",
    "\n",
    "def distance(a,b,c,d):\n",
    "    print(f\"({a},{b})와 ({c},{d}) 사이의 거리는 {((a-c)**2+(b-d)**2)**1/2}\")\n",
    "    \n",
    "distance(x1,y1,x2,y2)"
   ]
  }
 ],
 "metadata": {
  "kernelspec": {
   "display_name": "Python 3",
   "language": "python",
   "name": "python3"
  },
  "language_info": {
   "codemirror_mode": {
    "name": "ipython",
    "version": 3
   },
   "file_extension": ".py",
   "mimetype": "text/x-python",
   "name": "python",
   "nbconvert_exporter": "python",
   "pygments_lexer": "ipython3",
   "version": "3.8.5"
  }
 },
 "nbformat": 4,
 "nbformat_minor": 4
}
