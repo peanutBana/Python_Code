{
 "cells": [
  {
   "cell_type": "code",
   "execution_count": 2,
   "metadata": {},
   "outputs": [
    {
     "name": "stdout",
     "output_type": "stream",
     "text": [
      "1에서 100까지의 수 중에서 홀수는 : \n",
      "1 3 5 7 9 11 13 15 17 19 21 23 25 27 29 31 33 35 37 39 41 43 45 47 49 51 53 55 57 59 61 63 65 67 69 71 73 75 77 79 81 83 85 87 89 91 93 95 97 99 "
     ]
    }
   ],
   "source": [
    "#5.1.1\n",
    "\n",
    "print(\"1에서 100까지의 수 중에서 홀수는 : \")\n",
    "\n",
    "for i in range(1,101):\n",
    "    if i % 2 == 1:\n",
    "        print(i,end= \" \")\n",
    "        \n",
    "\n",
    "#n = [x for x in range(1,101) if x%2==1]\n",
    "#for _ in n:\n",
    "#    print(_,end=\" \")    "
   ]
  },
  {
   "cell_type": "code",
   "execution_count": 7,
   "metadata": {},
   "outputs": [
    {
     "name": "stdout",
     "output_type": "stream",
     "text": [
      "1에서 100까지의 수 중에서 홀수는 : \n",
      "1 3 5 7 9 11 13 15 17 19 21 23 25 27 29 31 33 35 37 39 41 43 45 47 49 51 53 55 57 59 61 63 65 67 69 71 73 75 77 79 81 83 85 87 89 91 93 95 97 99 "
     ]
    }
   ],
   "source": [
    "#5.1.2\n",
    "\n",
    "print(\"1에서 100까지의 수 중에서 홀수는 : \")\n",
    "n = 1 \n",
    "while n < 101:\n",
    "    print(n, end=\" \")\n",
    "    n+=2"
   ]
  },
  {
   "cell_type": "code",
   "execution_count": 11,
   "metadata": {},
   "outputs": [
    {
     "name": "stdout",
     "output_type": "stream",
     "text": [
      "1에서 100까지의 수 중에서 짝수는 : \n",
      "2 4 6 8 10 12 14 16 18 20 22 24 26 28 30 32 34 36 38 40 42 44 46 48 50 52 54 56 58 60 62 64 66 68 70 72 74 76 78 80 82 84 86 88 90 92 94 96 98 100 \n",
      "\n",
      "2 4 6 8 10 12 14 16 18 20 22 24 26 28 30 32 34 36 38 40 42 44 46 48 50 52 54 56 58 60 62 64 66 68 70 72 74 76 78 80 82 84 86 88 90 92 94 96 98 100 "
     ]
    }
   ],
   "source": [
    "#5.1.3\n",
    "print(\"1에서 100까지의 수 중에서 짝수는 : \")\n",
    "\n",
    "\n",
    "for i in range(1,101):\n",
    "    if i % 2 == 0:\n",
    "        print(i,end= \" \")\n",
    "\n",
    "print(\"\\n\")\n",
    "        \n",
    "n = 2 \n",
    "while n < 101:\n",
    "    print(n, end=\" \")\n",
    "    n+=2"
   ]
  },
  {
   "cell_type": "code",
   "execution_count": 13,
   "metadata": {},
   "outputs": [
    {
     "name": "stdout",
     "output_type": "stream",
     "text": [
      "1부터 100까지 수 중에서 홀수의 합 : 2500\n"
     ]
    }
   ],
   "source": [
    "#5.2.1\n",
    "\n",
    "sum = 0\n",
    "\n",
    "for i in range(1,101):\n",
    "    if i % 2 == 1:\n",
    "        sum+=i\n",
    "print(f\"1부터 100까지 수 중에서 홀수의 합 : {sum}\")"
   ]
  },
  {
   "cell_type": "code",
   "execution_count": 15,
   "metadata": {},
   "outputs": [
    {
     "name": "stdout",
     "output_type": "stream",
     "text": [
      "1부터 100까지 수 중에서 짝수의 합 : 2550\n"
     ]
    }
   ],
   "source": [
    "#5.2.2\n",
    "\n",
    "sum = 0\n",
    "\n",
    "n = 2\n",
    "while n < 101:\n",
    "    sum += n\n",
    "    n+=2\n",
    "print(f\"1부터 100까지 수 중에서 짝수의 합 : {sum}\")"
   ]
  },
  {
   "cell_type": "code",
   "execution_count": 17,
   "metadata": {},
   "outputs": [
    {
     "name": "stdout",
     "output_type": "stream",
     "text": [
      "시작 정수를 입력하세요 : 2\n",
      "끝 정수를 입력하세요 : 6\n",
      "2에서 6까지 정수의 합 : 20\n"
     ]
    }
   ],
   "source": [
    "#5.2.3\n",
    "\n",
    "init = int(input(\"시작 정수를 입력하세요 : \"))\n",
    "end = int(input(\"끝 정수를 입력하세요 : \"))\n",
    "\n",
    "sum = 0\n",
    "\n",
    "for i in range(init,end+1):\n",
    "    sum+=i\n",
    "print(f\"{init}에서 {end}까지 정수의 합 : {sum}\")"
   ]
  },
  {
   "cell_type": "code",
   "execution_count": 5,
   "metadata": {},
   "outputs": [
    {
     "name": "stdout",
     "output_type": "stream",
     "text": [
      "숫자를 입력하세요 : 10\n",
      "         *\n",
      "        **\n",
      "       ***\n",
      "      ****\n",
      "     *****\n",
      "    ******\n",
      "   *******\n",
      "  ********\n",
      " *********\n",
      "**********\n"
     ]
    }
   ],
   "source": [
    "#5.4\n",
    "\n",
    "n = int(input(\"숫자를 입력하세요 : \"))\n",
    "cnt = 1\n",
    "while n>0:\n",
    "    print((n-1)*' ',end=\"\")\n",
    "    print(cnt*'*')\n",
    "    n-=1\n",
    "    cnt+=1"
   ]
  },
  {
   "cell_type": "code",
   "execution_count": 18,
   "metadata": {},
   "outputs": [],
   "source": [
    "#5.5\n",
    "\n",
    "l = 30\n",
    "up = 7\n",
    "day = 1\n",
    "while l < up:\n",
    "    print(f\"day : {day}\",end=\"\")\n",
    "    day+=1\n",
    "    print(\"달팽이의 위치 :\"+\"{3:>}\".format(up)+\"미터\")\n",
    "    up += 2"
   ]
  },
  {
   "cell_type": "code",
   "execution_count": null,
   "metadata": {},
   "outputs": [],
   "source": []
  }
 ],
 "metadata": {
  "kernelspec": {
   "display_name": "Python 3",
   "language": "python",
   "name": "python3"
  },
  "language_info": {
   "codemirror_mode": {
    "name": "ipython",
    "version": 3
   },
   "file_extension": ".py",
   "mimetype": "text/x-python",
   "name": "python",
   "nbconvert_exporter": "python",
   "pygments_lexer": "ipython3",
   "version": "3.8.5"
  }
 },
 "nbformat": 4,
 "nbformat_minor": 4
}
