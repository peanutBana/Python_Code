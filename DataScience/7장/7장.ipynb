{
 "cells": [
  {
   "cell_type": "code",
   "execution_count": 12,
   "metadata": {},
   "outputs": [
    {
     "name": "stdout",
     "output_type": "stream",
     "text": [
      "좋아하는 과일의 이름을 입력하시오 : 망고\n",
      "좋아하는 과일의 이름을 입력하시오 : 바나나\n",
      "좋아하는 과일의 이름을 입력하시오 : 포도\n",
      "과일의 이름을 입력하세요 : 사과\n",
      "이 과일은 당신이 좋아하는 과일이 아닙니다.\n"
     ]
    }
   ],
   "source": [
    "#LAB 7-1\n",
    "\n",
    "fruits = []\n",
    "\n",
    "for _ in range(3):\n",
    "    name = input(\"좋아하는 과일의 이름을 입력하시오 : \")\n",
    "    fruits.append(name)\n",
    "    \n",
    "name = input(\"과일의 이름을 입력하세요 : \")\n",
    "if name in fruits:\n",
    "    print(\"이 과일은 당신이 좋아하는 과일입니다.\")\n",
    "else:\n",
    "    print(\"이 과일은 당신이 좋아하는 과일이 아닙니다.\")"
   ]
  },
  {
   "cell_type": "code",
   "execution_count": 3,
   "metadata": {},
   "outputs": [
    {
     "data": {
      "text/plain": [
       "False"
      ]
     },
     "execution_count": 3,
     "metadata": {},
     "output_type": "execute_result"
    }
   ],
   "source": [
    "#7-1\n",
    "black_pink = [\"Jennie\",\"Jisu\",\"Lisa\",\"Rose\"]\n",
    "\n",
    "\"Jennie\" in black_pink\n",
    "\n",
    "\"Psy\" in black_pink\n"
   ]
  },
  {
   "cell_type": "code",
   "execution_count": 34,
   "metadata": {},
   "outputs": [
    {
     "name": "stdout",
     "output_type": "stream",
     "text": [
      "[9765, 3441, 2954, 1531]\n"
     ]
    }
   ],
   "source": [
    "#LAB 7-2\n",
    "\n",
    "Seoul = 9765\n",
    "Busan = 3441\n",
    "Incheon = 2954\n",
    "Daejeon = 1531\n",
    "city_pop = [Seoul, Busan, Incheon]\n",
    "city_pop.append(Daejeon)\n",
    "\n",
    "print(city_pop)\n"
   ]
  },
  {
   "cell_type": "code",
   "execution_count": 39,
   "metadata": {},
   "outputs": [
    {
     "data": {
      "text/plain": [
       "[5, 7, 9]"
      ]
     },
     "execution_count": 39,
     "metadata": {},
     "output_type": "execute_result"
    }
   ],
   "source": [
    "#7-2\n",
    "\n",
    "number = [4,5,6,7,8,9]\n",
    "# 1)\n",
    "number[2]\n",
    "\n",
    "# 2)\n",
    "number[1:3]\n",
    "\n",
    "# 3)\n",
    "number[:3]\n",
    "\n",
    "# 4)\n",
    "number[1::2]"
   ]
  },
  {
   "cell_type": "code",
   "execution_count": 42,
   "metadata": {},
   "outputs": [
    {
     "name": "stdout",
     "output_type": "stream",
     "text": [
      "서울 인구 : 9765\n",
      "인천 인구 : 2954\n",
      "도시 리스트 : ['Seoul', 'busan', 'Incheon']\n",
      "인구의 합 : 16160\n"
     ]
    }
   ],
   "source": [
    "#LAB 7-3\n",
    "population = [\"Seoul\",9765,\"busan\",3441,\"Incheon\",2954]\n",
    "\n",
    "# 1)\n",
    "print(f\"서울 인구 : {population[1]}\")\n",
    "print(f\"인천 인구 : {population[-1]}\")\n",
    "print(f\"도시 리스트 : {population[::2]}\")\n",
    "print(f\"인구의 합 : {sum(population[1::2])}\")"
   ]
  },
  {
   "cell_type": "code",
   "execution_count": 47,
   "metadata": {},
   "outputs": [
    {
     "data": {
      "text/plain": [
       "'is'"
      ]
     },
     "execution_count": 47,
     "metadata": {},
     "output_type": "execute_result"
    }
   ],
   "source": [
    "#7-3\n",
    "\n",
    "# 1)\n",
    "s = \"Python is strong\"\n",
    "s[0]\n",
    "\n",
    "# 2)\n",
    "s[10:]\n",
    "\n",
    "# 3)\n",
    "s[:6]\n",
    "\n",
    "# 4)\n",
    "s[7:9]"
   ]
  },
  {
   "cell_type": "code",
   "execution_count": 50,
   "metadata": {},
   "outputs": [
    {
     "data": {
      "text/plain": [
       "['A', 'A', 'A', 'D', 'E', 'F', 'Y', 'Y']"
      ]
     },
     "execution_count": 50,
     "metadata": {},
     "output_type": "execute_result"
    }
   ],
   "source": [
    "#7-4\n",
    "sorted(\"FADEAYAY\")"
   ]
  },
  {
   "cell_type": "code",
   "execution_count": 52,
   "metadata": {},
   "outputs": [
    {
     "data": {
      "text/plain": [
       "300"
      ]
     },
     "execution_count": 52,
     "metadata": {},
     "output_type": "execute_result"
    }
   ],
   "source": [
    "#7-5\n",
    "\n",
    "eval(\"100+200\")"
   ]
  },
  {
   "cell_type": "code",
   "execution_count": 64,
   "metadata": {},
   "outputs": [
    {
     "name": "stdout",
     "output_type": "stream",
     "text": [
      "정수를 여려개 입력하세요 : 10 20 30 40 50 \n"
     ]
    },
    {
     "data": {
      "text/plain": [
       "[10, 20, 30, 40, 50]"
      ]
     },
     "execution_count": 64,
     "metadata": {},
     "output_type": "execute_result"
    }
   ],
   "source": [
    "[int(x) for x in input(\"정수를 여려개 입력하세요 : \").split() ]"
   ]
  },
  {
   "cell_type": "code",
   "execution_count": 1,
   "metadata": {},
   "outputs": [
    {
     "name": "stdout",
     "output_type": "stream",
     "text": [
      "원의 반지름을 입력하시오 : 5\n",
      "원의 넓이는 78.53981633974483이고 원의 둘레는 31.41592653589793이다.\n"
     ]
    }
   ],
   "source": [
    "#LAB 7-5\n",
    "import math\n",
    "\n",
    "def calCircle(r):\n",
    "    area = math.pi * r * r\n",
    "    circum = 2 * math.pi * r\n",
    "    return area, circum\n",
    "radious = float(input(\"원의 반지름을 입력하시오 : \"))\n",
    "(a,c) = calCircle(radious)\n",
    "print(\"원의 넓이는 \"+str(a)+\"이고 원의 둘레는 \"+str(c)+\"이다.\")"
   ]
  },
  {
   "cell_type": "code",
   "execution_count": 3,
   "metadata": {},
   "outputs": [
    {
     "name": "stdout",
     "output_type": "stream",
     "text": [
      "내 이름은 나비, 색깔은 검정색 야옹야옹~~\n",
      "내 이름은 네로, 색깔은 흰색 야옹야옹~~\n",
      "내 이름은 미미, 색깔은 갈색 야옹야옹~~\n"
     ]
    }
   ],
   "source": [
    "#7.16\n",
    "\n",
    "class Cat:\n",
    "    def __init__(self,name,color=\"흰색\"):\n",
    "        self.name = name\n",
    "        self.color = color\n",
    "        \n",
    "    def meow(self):\n",
    "        print(f\"내 이름은 {self.name}, 색깔은 {self.color} 야옹야옹~~\")\n",
    "        \n",
    "nabi = Cat(\"나비\",\"검정색\")\n",
    "nero = Cat(\"네로\",\"흰색\")\n",
    "mimi = Cat(\"미미\",\"갈색\")\n",
    "nabi.meow()\n",
    "nero.meow()\n",
    "mimi.meow()"
   ]
  }
 ],
 "metadata": {
  "kernelspec": {
   "display_name": "Python 3",
   "language": "python",
   "name": "python3"
  },
  "language_info": {
   "codemirror_mode": {
    "name": "ipython",
    "version": 3
   },
   "file_extension": ".py",
   "mimetype": "text/x-python",
   "name": "python",
   "nbconvert_exporter": "python",
   "pygments_lexer": "ipython3",
   "version": "3.8.5"
  }
 },
 "nbformat": 4,
 "nbformat_minor": 4
}
