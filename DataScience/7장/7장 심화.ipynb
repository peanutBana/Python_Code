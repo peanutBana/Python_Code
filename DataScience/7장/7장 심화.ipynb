{
 "cells": [
  {
   "cell_type": "code",
   "execution_count": 7,
   "metadata": {},
   "outputs": [
    {
     "data": {
      "text/plain": [
       "[800, 700, 600, 500]"
      ]
     },
     "execution_count": 7,
     "metadata": {},
     "output_type": "execute_result"
    }
   ],
   "source": [
    "#7.1\n",
    "\n",
    "lst = [100,200,300,400,500,600,700,800]\n",
    "lst[-1:-5:-1]"
   ]
  },
  {
   "cell_type": "code",
   "execution_count": 10,
   "metadata": {},
   "outputs": [
    {
     "name": "stdout",
     "output_type": "stream",
     "text": [
      "3*2 = 6\n",
      "3*3 = 9\n",
      "3*4 = 12\n",
      "3*5 = 15\n",
      "3*6 = 18\n",
      "\n",
      "5*2 = 10\n",
      "5*3 = 15\n",
      "5*4 = 20\n",
      "5*5 = 25\n",
      "5*6 = 30\n",
      "\n",
      "7*2 = 14\n",
      "7*3 = 21\n",
      "7*4 = 28\n",
      "7*5 = 35\n",
      "7*6 = 42\n",
      "\n"
     ]
    }
   ],
   "source": [
    "#7.2\n",
    "\n",
    "lst1 = [3,5,7]\n",
    "lst2 = [2,3,4,5,6]\n",
    "\n",
    "for i in lst1:\n",
    "    for j in lst2:\n",
    "        print(f\"{i}*{j} = {i*j}\")\n",
    "    print()"
   ]
  },
  {
   "cell_type": "code",
   "execution_count": 15,
   "metadata": {},
   "outputs": [
    {
     "name": "stdout",
     "output_type": "stream",
     "text": [
      "I like pancakes\n",
      "I like kiwi juice\n",
      "I like espresso\n",
      "I love pancakes\n",
      "I love kiwi juice\n",
      "I love espresso\n"
     ]
    }
   ],
   "source": [
    "7.3\n",
    "\n",
    "lst1 = [\"I like\",\"I love\"]\n",
    "lst2 = [\"pancakes\",\"kiwi juice\",\"espresso\"]\n",
    "\n",
    "for i in lst1:\n",
    "    for j in lst2:\n",
    "        print(f\"{i} {j}\")"
   ]
  },
  {
   "cell_type": "code",
   "execution_count": 20,
   "metadata": {},
   "outputs": [
    {
     "data": {
      "text/plain": [
       "['A1', 'A2', 'B1', 'B2', 'C1', 'C2']"
      ]
     },
     "execution_count": 20,
     "metadata": {},
     "output_type": "execute_result"
    }
   ],
   "source": [
    "#7.5\n",
    "t1 = ('A','B','C')\n",
    "t2 = ('1','2')\n",
    "lst=[]\n",
    "\n",
    "for i in t1:\n",
    "    for j in t2:\n",
    "        lst.append(i+j)\n",
    "lst"
   ]
  },
  {
   "cell_type": "code",
   "execution_count": 2,
   "metadata": {},
   "outputs": [
    {
     "name": "stdout",
     "output_type": "stream",
     "text": [
      "문자열을 입력하세요 : python\n",
      "p\n",
      "py\n",
      "pyt\n",
      "pyth\n",
      "pytho\n",
      "python\n",
      "pytho\n",
      "pyth\n",
      "pyt\n",
      "py\n",
      "p\n",
      "\n"
     ]
    }
   ],
   "source": [
    "#7.6\n",
    "\n",
    "str =input(\"문자열을 입력하세요 : \")\n",
    "\n",
    "idx = 0\n",
    "for i in str:     \n",
    "    print(str[:idx+1])\n",
    "    idx+=1\n",
    "    \n",
    "idx = len(str)\n",
    "for i in str:\n",
    "    print(str[:idx-1])\n",
    "    idx-=1   \n"
   ]
  },
  {
   "cell_type": "code",
   "execution_count": 9,
   "metadata": {
    "scrolled": true
   },
   "outputs": [
    {
     "name": "stdout",
     "output_type": "stream",
     "text": [
      "가장 긴 단어는 ['banana', 'orange']\n"
     ]
    },
    {
     "data": {
      "text/plain": [
       "['banana', 'orange', 'kiwi', 'apple', 'melon']"
      ]
     },
     "execution_count": 9,
     "metadata": {},
     "output_type": "execute_result"
    }
   ],
   "source": [
    "#7.7.1\n",
    "\n",
    "f_lst = [\"banana\",\"orange\",\"kiwi\",\"apple\",\"melon\"]\n",
    "max = []\n",
    "l = 0\n",
    "\n",
    "for i in f_lst:\n",
    "    if len(i)>=l:\n",
    "        l = len(i)\n",
    "        max.append(i)\n",
    "for i in max:\n",
    "    if len(i) != l:\n",
    "        max.remove(i)\n",
    "        \n",
    "print(f\"가장 긴 단어는 {max}\")\n",
    "f_lst"
   ]
  },
  {
   "cell_type": "code",
   "execution_count": 19,
   "metadata": {},
   "outputs": [
    {
     "name": "stdout",
     "output_type": "stream",
     "text": [
      "banana : 문자열의 길이 6\n",
      "orange : 문자열의 길이 6\n",
      "kiwi : 문자열의 길이 4\n",
      "apple : 문자열의 길이 5\n",
      "melon : 문자열의 길이 5\n"
     ]
    }
   ],
   "source": [
    "#7.7.2\n",
    "\n",
    "f_list = [\"banana\",\"orange\",\"kiwi\",\"apple\",\"melon\"]\n",
    "for i in f_list:\n",
    "    print(f\"{i} : 문자열의 길이 {len(i)}\")\n"
   ]
  },
  {
   "cell_type": "code",
   "execution_count": 4,
   "metadata": {},
   "outputs": [
    {
     "name": "stdout",
     "output_type": "stream",
     "text": [
      "n을 입력하시오 : 25\n",
      "  1  2  3  4  5\n",
      "  6  7  8  9 10\n",
      " 11 12 13 14 15\n",
      " 16 17 18 19 20\n",
      " 21 22 23 24 25\n"
     ]
    }
   ],
   "source": [
    "#7.8\n",
    "\n",
    "n = int(input(\"n을 입력하시오 : \"))\n",
    "\n",
    "for i in range(1,n+1):\n",
    "    print(\"{0:3d}\".format(i),end=\"\")          ##{0:3d} ==> {:>3}\n",
    "    if i%5 == 0:\n",
    "        print()"
   ]
  },
  {
   "cell_type": "code",
   "execution_count": 6,
   "metadata": {},
   "outputs": [
    {
     "name": "stdout",
     "output_type": "stream",
     "text": [
      "문자열을 입력하시오 : python\n",
      "문자열을 입력하시오 : sda\n",
      "p\n",
      "y\n",
      "t\n",
      "h\n",
      "o\n",
      "n\n"
     ]
    }
   ],
   "source": [
    "#7.9\n",
    "A = input(\"문자열을 입력하시오 : \")\n",
    "B = input(\"문자열을 입력하시오 : \")\n",
    "\n",
    "for i in A:\n",
    "    print(i)\n",
    "\n",
    "#def overlap(A,B):\n",
    "    \n",
    "#아몰라"
   ]
  }
 ],
 "metadata": {
  "kernelspec": {
   "display_name": "Python 3",
   "language": "python",
   "name": "python3"
  },
  "language_info": {
   "codemirror_mode": {
    "name": "ipython",
    "version": 3
   },
   "file_extension": ".py",
   "mimetype": "text/x-python",
   "name": "python",
   "nbconvert_exporter": "python",
   "pygments_lexer": "ipython3",
   "version": "3.8.5"
  }
 },
 "nbformat": 4,
 "nbformat_minor": 4
}
