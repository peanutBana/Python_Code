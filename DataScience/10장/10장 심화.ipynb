{
 "cells": [
  {
   "cell_type": "code",
   "execution_count": 8,
   "metadata": {},
   "outputs": [
    {
     "name": "stdout",
     "output_type": "stream",
     "text": [
      "[ 1  2  3  4  5  6  7  8  9 10 11 12 13 14 15 16 17 18 19 20]\n",
      "[20 19 18 17 16 15 14 13 12 11 10  9  8  7  6  5  4  3  2  1]\n",
      "num_arr 내의 모든 원소의 합 :210\n",
      "[[ 1  2  3  4]\n",
      " [ 5  6  7  8]\n",
      " [ 9 10 11 12]\n",
      " [13 14 15 16]\n",
      " [17 18 19 20]]\n"
     ]
    }
   ],
   "source": [
    "#10.1\n",
    "import numpy as np\n",
    "\n",
    "num_arr = np.arange(1,21,1)\n",
    "print(num_arr)\n",
    "print(num_arr[::-1])\n",
    "print(f\"num_arr 내의 모든 원소의 합 :{sum(num_arr)}\")\n",
    "print(num_arr.reshape(5,4))"
   ]
  },
  {
   "cell_type": "code",
   "execution_count": 7,
   "metadata": {},
   "outputs": [
    {
     "name": "stdout",
     "output_type": "stream",
     "text": [
      "[[ 0  1  2  3  4]\n",
      " [ 5  6  7  8  9]\n",
      " [10 11 12 13 14]\n",
      " [15 16 17 18 19]\n",
      " [20 21 22 23 24]] \n",
      "\n",
      "n_arr의 첫 원소 = 0\n",
      "n_arr의 마지막 원소 = 24\n",
      "\n",
      "[[0 1 2 3 4]\n",
      " [5 6 7 8 9]] \n",
      "\n",
      "[[10 11 12 13 14]\n",
      " [15 16 17 18 19]\n",
      " [20 21 22 23 24]] \n",
      "\n",
      "[[ 0  2  4]\n",
      " [ 5  7  9]\n",
      " [10 12 14]\n",
      " [15 17 19]\n",
      " [20 22 24]] \n",
      "\n",
      "[[ 0  2  4]\n",
      " [10 12 14]\n",
      " [20 22 24]] \n",
      "\n",
      "[[0 1]\n",
      " [2 3]\n",
      " [4 5]\n",
      " [6 7]\n",
      " [8 9]]\n"
     ]
    }
   ],
   "source": [
    "#10.2\n",
    "import numpy as np\n",
    "#1)\n",
    "n_arr = np.arange(25)\n",
    "n_arr = n_arr.reshape(5,5)\n",
    "print(n_arr,\"\\n\")\n",
    "\n",
    "#2)\n",
    "print(f\"n_arr의 첫 원소 = {n_arr[0,0]}\")\n",
    "print(f\"n_arr의 마지막 원소 = {n_arr[-1,-1]}\\n\")\n",
    "\n",
    "#3)\n",
    "print(n_arr[0:2],\"\\n\")\n",
    "\n",
    "#4)\n",
    "print(n_arr[2:],\"\\n\")\n",
    "\n",
    "#5)\n",
    "print(n_arr[::,::2],\"\\n\")\n",
    "\n",
    "#6)\n",
    "print(n_arr[::2,::2],\"\\n\")\n",
    "\n",
    "#7)\n",
    "n_arr = n_arr[0:2].flatten()\n",
    "print(n_arr.reshape(5,2))"
   ]
  },
  {
   "cell_type": "code",
   "execution_count": 12,
   "metadata": {},
   "outputs": [
    {
     "name": "stdout",
     "output_type": "stream",
     "text": [
      "[[0.27010675 0.14840057 0.57016451]\n",
      " [0.30418073 0.95598444 0.94446295]\n",
      " [0.37082188 0.15733176 0.0201813 ]] \n",
      "\n",
      "a의 원소들 중 최댓값 : 0.955984443814412\n",
      "a의 원소들 중 최댓값의 위치 : 4\n"
     ]
    }
   ],
   "source": [
    "#10.3\n",
    "\n",
    "#1)\n",
    "a = np.random.rand(3,3)\n",
    "print(a,\"\\n\")\n",
    "\n",
    "#2)\n",
    "print(f\"a의 원소들 중 최댓값 : {np.max(a)}\")\n",
    "\n",
    "#3)\n",
    "print(f\"a의 원소들 중 최댓값의 위치 : {np.argmax(a)}\")\n",
    "\n"
   ]
  },
  {
   "cell_type": "code",
   "execution_count": 3,
   "metadata": {},
   "outputs": [
    {
     "name": "stdout",
     "output_type": "stream",
     "text": [
      "[[0 0 1 1 0]\n",
      " [0 0 0 1 1]\n",
      " [1 0 0 1 1]\n",
      " [1 0 1 1 1]\n",
      " [1 1 0 1 0]] \n",
      "\n",
      "행렬의 행 방향 성분의 합 : [2 2 3 4 3]\n"
     ]
    }
   ],
   "source": [
    "#10.4\n",
    "import numpy as np\n",
    "a = np.random.randint(0,2,size = (5,5))\n",
    "#1)\n",
    "print(a,\"\\n\")\n",
    "\n",
    "#2)\n",
    "idx = 0\n",
    "arr = []\n",
    "for i in a:\n",
    "    arr.append(np.sum(a[idx]))\n",
    "    idx+=1\n",
    "    \n",
    "arr = np.array(arr)\n",
    "print(f\"행렬의 행 방향 성분의 합 : {arr}\")"
   ]
  },
  {
   "cell_type": "code",
   "execution_count": 66,
   "metadata": {},
   "outputs": [
    {
     "name": "stdout",
     "output_type": "stream",
     "text": [
      "[ 0  1  2  3  4  5  6  7  8  9 10 11 12 13 14 15 16 17 18 19 20 21 22 23\n",
      " 24 25 26 27 28 29 30 31]\n",
      "10번째 원소 : 9\n",
      "20번째 원소 : 19\n"
     ]
    }
   ],
   "source": [
    "#10.5\n",
    "\n",
    "a = np.arange(0,32).reshape(4,4,2)\n",
    "a = a.flatten()\n",
    "print(a)\n",
    "idx = 0\n",
    "for i in a:\n",
    "    idx+=1\n",
    "    if idx == 10:\n",
    "        print(f\"10번째 원소 : {i}\")\n",
    "    elif idx == 20:\n",
    "        print(f\"20번째 원소 : {i}\")\n"
   ]
  },
  {
   "cell_type": "code",
   "execution_count": 70,
   "metadata": {},
   "outputs": [
    {
     "name": "stdout",
     "output_type": "stream",
     "text": [
      "[[1.         0.99625687 0.92144401 0.06079385]\n",
      " [0.99625687 1.         0.91601808 0.06712937]\n",
      " [0.92144401 0.91601808 1.         0.06704231]\n",
      " [0.06079385 0.06712937 0.06704231 1.        ]]\n"
     ]
    }
   ],
   "source": [
    "#10.6\n",
    "\n",
    "x1 = [i for i in range(100)]\n",
    "x2 = [i + np.random.randint(1,10) for i in range(100)]\n",
    "x3 = [i + np.random.randint(1,50) for i in range(100)]\n",
    "x4 = [np.random.randint(1,100) for i in range(100)]\n",
    "\n",
    "print(np.corrcoef([x1,x2,x3,x4]))"
   ]
  }
 ],
 "metadata": {
  "kernelspec": {
   "display_name": "Python 3",
   "language": "python",
   "name": "python3"
  },
  "language_info": {
   "codemirror_mode": {
    "name": "ipython",
    "version": 3
   },
   "file_extension": ".py",
   "mimetype": "text/x-python",
   "name": "python",
   "nbconvert_exporter": "python",
   "pygments_lexer": "ipython3",
   "version": "3.8.5"
  }
 },
 "nbformat": 4,
 "nbformat_minor": 4
}
