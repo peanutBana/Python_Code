{
 "cells": [
  {
   "cell_type": "code",
   "execution_count": 3,
   "metadata": {},
   "outputs": [
    {
     "name": "stdout",
     "output_type": "stream",
     "text": [
      "[ 11  22  33  44  55  66  77  88  99 110]\n",
      "[ -9 -18 -27 -36 -45 -54 -63 -72 -81 -90]\n",
      "[  10   40   90  160  250  360  490  640  810 1000]\n",
      "[0.1 0.1 0.1 0.1 0.1 0.1 0.1 0.1 0.1 0.1]\n"
     ]
    }
   ],
   "source": [
    "#10-1\n",
    "import numpy as np\n",
    "\n",
    "a = np.array(range(1,11))\n",
    "b = np.array(range(10,101,10))\n",
    "print(a+b)\n",
    "print(a-b)\n",
    "print(a*b)\n",
    "print(a/b)"
   ]
  },
  {
   "cell_type": "code",
   "execution_count": 6,
   "metadata": {},
   "outputs": [
    {
     "name": "stdout",
     "output_type": "stream",
     "text": [
      "(3,)\n",
      "1\n",
      "int64\n",
      "8\n",
      "3\n",
      "(8,)\n"
     ]
    }
   ],
   "source": [
    "import numpy as np\n",
    "\n",
    "a = np.array([1,2,3])\n",
    "print(a.shape)        # a 객체의 형태(shape)\n",
    "print(a.ndim)         # a 객체의 차원 \n",
    "print(a.dtype)        # a 객체 내부 자료형\n",
    "print(a.itemsize)     # a 객체 내부 자료형이 차지하는 메모리의 크기(byte)\n",
    "print(a.size)         # a 객체의 전체 크기(항목의 수1)\n",
    "print(a.strides)"
   ]
  },
  {
   "cell_type": "code",
   "execution_count": 28,
   "metadata": {},
   "outputs": [
    {
     "name": "stdout",
     "output_type": "stream",
     "text": [
      "(10,)\n",
      "10\n"
     ]
    }
   ],
   "source": [
    "#10.2\n",
    "a = np.array(range(1,11)) + np.array(range(10,101,10))\n",
    "print(a.shape)\n",
    "print(a.size)"
   ]
  },
  {
   "cell_type": "code",
   "execution_count": 16,
   "metadata": {},
   "outputs": [
    {
     "name": "stdout",
     "output_type": "stream",
     "text": [
      "실습 1 : array_a = [0 1 2 3 4 5 6 7 8 9]\n",
      "실습 2 : array_a = [0 1 2 3 4 5 6 7 8 9]\n",
      "실습 3 : array_c = [0 2 4 6 8]\n",
      "실습 4 :\n",
      "(5,)\n",
      "1\n",
      "int64\n",
      "8\n",
      "5\n"
     ]
    }
   ],
   "source": [
    "#LAB 10-1\n",
    "import numpy as np\n",
    "array_c = np.array(range(0,10,2))\n",
    "print(f\"실습 1 : array_a = {np.array([0,1,2,3,4,5,6,7,8,9])}\")\n",
    "print(f\"실습 2 : array_a = {np.array(range(10))}\")\n",
    "print(f\"실습 3 : array_c = {np.array(range(0,10,2))}\")\n",
    "print(f\"실습 4 :\")\n",
    "print(array_c.shape)        # a 객체의 형태(shape)\n",
    "print(array_c.ndim)         # a 객체의 차원 \n",
    "print(array_c.dtype)        # a 객체 내부 자료형\n",
    "print(array_c.itemsize)     # a 객체 내부 자료형이 차지하는 메모리의 크기(byte)\n",
    "print(array_c.size)         # a 객체의 전체 크기(항목의 수1)\n"
   ]
  },
  {
   "cell_type": "code",
   "execution_count": 20,
   "metadata": {},
   "outputs": [
    {
     "name": "stdout",
     "output_type": "stream",
     "text": [
      "대상자들의 몸무게 : [86 74 59 95 80 68]\n",
      "대상자들의 키 : [1.83 1.76 1.69 1.86 1.77 1.73]\n",
      "대상자들의 BMI : [25.68007405 23.88946281 20.65754    27.45982194 25.53544639 22.72043837]\n"
     ]
    }
   ],
   "source": [
    "#LAB 10-2\n",
    "\n",
    "import numpy as np\n",
    "\n",
    "h = np.array([1.83,1.76,1.69,1.86,1.77,1.73])\n",
    "w = np.array([86,74,59,95,80,68])\n",
    "\n",
    "bmi = w/h**2\n",
    "\n",
    "print(f\"대상자들의 몸무게 : {w}\")\n",
    "print(f\"대상자들의 키 : {h}\")\n",
    "print(f\"대상자들의 BMI : {bmi}\")\n"
   ]
  },
  {
   "cell_type": "code",
   "execution_count": 23,
   "metadata": {},
   "outputs": [
    {
     "name": "stdout",
     "output_type": "stream",
     "text": [
      "['c' 'c' 'c']\n",
      "[[ 8 18 28]\n",
      " [ 9 18 27]]\n"
     ]
    }
   ],
   "source": [
    "#LAB 10-3\n",
    "import numpy as np\n",
    "\n",
    "x = np.array([['a','b','c','d'],['c','c','g','h']])\n",
    "mat_a = np.array([[10,20,30],[10,20,30]])\n",
    "mat_b = np.array([[2,2,2],[1,2,3]])\n",
    "\n",
    "print(x[x=='c'])\n",
    "print(mat_a-mat_b)"
   ]
  },
  {
   "cell_type": "code",
   "execution_count": 41,
   "metadata": {},
   "outputs": [
    {
     "name": "stdout",
     "output_type": "stream",
     "text": [
      "BMI data = [0.00024743 0.0003214  0.00048549 0.00020499 0.00027656 0.00037413]\n"
     ]
    }
   ],
   "source": [
    "#LAB 10-4\n",
    "import numpy as np\n",
    "\n",
    "x = np.array([[1.83,1.76,1.69,1.85,1.77,1.73],[86.0,74.0,59.0,95.0,80.0,68.0]])\n",
    "\n",
    "y = x[0:2,1:3]\n",
    "#[1.76,1.y69],[74.0,59.0]\n",
    "z = x[0:2][1:3]\n",
    "bmi = x[0]/x[1]**2\n",
    "print(f\"BMI data = {bmi}\")"
   ]
  },
  {
   "cell_type": "code",
   "execution_count": 1,
   "metadata": {},
   "outputs": [
    {
     "name": "stdout",
     "output_type": "stream",
     "text": [
      "몸무게가 80 이상인 선수 정보 [[183.   86.2]\n",
      " [176.   80.1]]\n",
      "키가 180 이상인 선수 정보 [[183.   86.2]\n",
      " [181.   78.5]]\n"
     ]
    }
   ],
   "source": [
    "#LAB 10-5\n",
    "import numpy as np\n",
    "\n",
    "players = [[170,76.4],[183,86.2],[181,78.5],[176,80.1]]\n",
    "p = np.array(players)\n",
    "print(f\"몸무게가 80 이상인 선수 정보 {p[p[:,1]>=80.0]}\")\n",
    "print(f\"키가 180 이상인 선수 정보 {p[p[:,0]>=180]}\")"
   ]
  },
  {
   "cell_type": "code",
   "execution_count": 14,
   "metadata": {},
   "outputs": [
    {
     "data": {
      "text/plain": [
       "array([1.00000000e+00, 3.16227766e+00, 1.00000000e+01, 3.16227766e+01,\n",
       "       1.00000000e+02, 3.16227766e+02, 1.00000000e+03, 3.16227766e+03,\n",
       "       1.00000000e+04, 3.16227766e+04, 1.00000000e+05])"
      ]
     },
     "execution_count": 14,
     "metadata": {},
     "output_type": "execute_result"
    }
   ],
   "source": [
    "np.arange(0,6,2)\n",
    "np.linspace(1,10,4)\n",
    "np.logspace(0,5,11)"
   ]
  },
  {
   "cell_type": "code",
   "execution_count": 31,
   "metadata": {},
   "outputs": [
    {
     "name": "stdout",
     "output_type": "stream",
     "text": [
      "[0.05794981 0.25660757 0.51033178 0.99525878 0.14651568] \n",
      "\n",
      "[[0.44951478 0.60144038 0.09727249]\n",
      " [0.28873488 0.7207999  0.55080606]] \n",
      "\n",
      "[18.38577015 15.80331351 11.84571737 16.15502117 18.86955088] \n",
      "\n",
      "[[11  9 10  3]\n",
      " [ 1 11  1  7]\n",
      " [ 9  7  5  8]] \n",
      "\n",
      "[[11.25946143 11.08377464 11.65122312 11.3556326 ]\n",
      " [11.38855325 10.43835701 11.80071479 10.26323241]\n",
      " [10.25250247 10.30639386 10.68761979 10.01693382]\n",
      " [10.26416385 11.45108649 11.65917803 10.02705636]\n",
      " [10.13403696 10.22370969 10.5905296  10.26956785]] \n",
      "\n",
      "10.514443305703875 \n",
      "\n",
      "10.756186401843298 \n",
      "\n"
     ]
    }
   ],
   "source": [
    "print(np.random.rand(5),\"\\n\")     #0~1 사이의 난수 5개\n",
    "print(np.random.rand(2,3),\"\\n\")\n",
    "\n",
    "a = 10\n",
    "b = 20\n",
    "print((b-a)*np.random.rand(5)+a,\"\\n\") #10~20 사이의 난수 5개\n",
    "\n",
    "print(np.random.randint(1,12,size=(3,4)),\"\\n\")\n",
    "\n",
    "mu = 10\n",
    "sigma = 2 \n",
    "randoms = mu + sigma * np.random.rand(5,4)    #평균값 10, 표준편차 = 2인  정규분포 5X4로 출력\n",
    "print(randoms,\"\\n\")\n",
    "print(np.median(randoms),\"\\n\")\n",
    "print(np.mean(randoms),\"\\n\")"
   ]
  },
  {
   "cell_type": "code",
   "execution_count": 33,
   "metadata": {},
   "outputs": [
    {
     "name": "stdout",
     "output_type": "stream",
     "text": [
      "신장 평균값 : 175.62253202008662\n",
      "신장 중앙값 : 176.16497030447783\n",
      "체중 평균값 : 70.57661521603208\n",
      "페중 중앙값 : 70.54395072582037\n",
      "나이 평균값 : 20.47\n",
      "나이 중앙값 : 19.0\n"
     ]
    }
   ],
   "source": [
    "#LAB 10-6\n",
    "players = np.zeros((100,3))\n",
    "players[:,0] = 10 * np.random.randn(100) + 175\n",
    "players[:,1] = 10 * np.random.randn(100) + 70\n",
    "players[:,2] = np.floor(10 * np.random.randn(100))+ 22\n",
    "\n",
    "heights = players[:,0]\n",
    "print(f\"신장 평균값 : {np.mean(heights)}\")\n",
    "print(f\"신장 중앙값 : {np.median(heights)}\")\n",
    "\n",
    "weights = players[:,1]\n",
    "print(f\"체중 평균값 : {np.mean(weights)}\")\n",
    "print(f\"페중 중앙값 : {np.median(weights)}\")\n",
    "\n",
    "ages = players[:,2]\n",
    "print(f\"나이 평균값 : {np.mean(ages)}\")\n",
    "print(f\"나이 중앙값 : {np.median(ages)}\")"
   ]
  },
  {
   "cell_type": "code",
   "execution_count": 35,
   "metadata": {},
   "outputs": [
    {
     "name": "stdout",
     "output_type": "stream",
     "text": [
      "[[1.         0.96764439]\n",
      " [0.96764439 1.        ]]\n"
     ]
    }
   ],
   "source": [
    "x = [i for i in range(100)]\n",
    "y = [i**2 for i in range(100)]\n",
    "\n",
    "res = np.corrcoef(x,y)      # 상관관계 \n",
    "print(res)"
   ]
  }
 ],
 "metadata": {
  "kernelspec": {
   "display_name": "Python 3 (ipykernel)",
   "language": "python",
   "name": "python3"
  },
  "language_info": {
   "codemirror_mode": {
    "name": "ipython",
    "version": 3
   },
   "file_extension": ".py",
   "mimetype": "text/x-python",
   "name": "python",
   "nbconvert_exporter": "python",
   "pygments_lexer": "ipython3",
   "version": "3.10.2"
  }
 },
 "nbformat": 4,
 "nbformat_minor": 4
}
