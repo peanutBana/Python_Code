{
 "cells": [
  {
   "cell_type": "code",
   "execution_count": 5,
   "metadata": {},
   "outputs": [
    {
     "name": "stdout",
     "output_type": "stream",
     "text": [
      "성 : 박\n",
      "이름 : 민우\n",
      "직장 : 대림대\n"
     ]
    }
   ],
   "source": [
    "#8.1\n",
    "contact = {\"성\":\"박\",\"이름\":\"민우\",\"직장\":\"대림대\"}\n",
    "for i,j in contact  :\n",
    "    print(f\"{i} : {j}\")"
   ]
  },
  {
   "cell_type": "code",
   "execution_count": 12,
   "metadata": {},
   "outputs": [
    {
     "name": "stdout",
     "output_type": "stream",
     "text": [
      "메뉴를 선택하시오 1)재고조회 2)입고 3)출고 4)종료 :  3\n",
      "[출고] 물건의 이름과 수량을 입력하시오 : 커피음료 3\n",
      "커피음료의 재고 : 4\n"
     ]
    }
   ],
   "source": [
    "#8.2\n",
    "\n",
    "items = {\"커피음료\":7, \"펜\":3, \"종이컵\":2, \"우유\":1, \"콜라\":4, \"책\":5}\n",
    "\n",
    "menu = int(input(\"메뉴를 선택하시오 1)재고조회 2)입고 3)출고 4)종료 :  \"))\n",
    "\n",
    "if menu == 1:\n",
    "    name = input(\"[재고조회] 물건의 이름을 입력하시오 : \")\n",
    "    print(\"재고 :\",items[name])\n",
    "elif menu == 2:\n",
    "    name,cnt = input(\"[입고] 물건의 이름과 수량을 입력하시오 : \").split(\" \")\n",
    "    items[name]+=int(cnt)\n",
    "    print(f\"{name}의 재고 : {items[name]}\")\n",
    "elif menu == 3:\n",
    "    name,cnt = input(\"[출고] 물건의 이름과 수량을 입력하시오 : \").split(\" \")\n",
    "    items[name]-=int(cnt)\n",
    "    print(f\"{name}의 재고 : {items[name]}\")\n",
    "elif menu == 4:\n",
    "    print(\"프로그램을 종료합니다.\")"
   ]
  },
  {
   "cell_type": "code",
   "execution_count": null,
   "metadata": {},
   "outputs": [
    {
     "name": "stdout",
     "output_type": "stream",
     "text": [
      "사전 프로그램 시작... 종료는 q를 입력\n",
      "$ < one:하나\n",
      "$ < two:둘\n",
      "$ >하나\n",
      "하나이 사전에 없습니다.\n",
      "$ > 하나\n",
      "하나이 사전에 없습니다.\n"
     ]
    }
   ],
   "source": [
    "#LAB 8-2\n",
    "\n",
    "print(\"사전 프로그램 시작... 종료는 q를 입력\")\n",
    "dictionary = {}\n",
    "\n",
    "while True:\n",
    "    st = input(\"$ \")\n",
    "    command = st[0]\n",
    "    if command == '<':\n",
    "        st = st[1:]\n",
    "        inputStr = st.split(':')\n",
    "        if len(inputStr) < 2:\n",
    "            print(\"입력 오류가 발생했습니다.\")\n",
    "        else:\n",
    "            dictionary[inputStr[0].strip()] = inputStr[1].strip()\n",
    "            \n",
    "    elif command == '>':\n",
    "        st = st[1:]\n",
    "        inputStr = st.strip()\n",
    "        if inputStr in dictionary:\n",
    "            print(dictiondaty[inputStr])\n",
    "        else:\n",
    "            print(f\"{inputStr}이 사전에 없습니다.\")\n",
    "    elif command == 'q':\n",
    "        break\n",
    "    else:\n",
    "        print(\"입력 오류가 발생했습니다.\")\n",
    "print(\"사전 프로그램을 종료합니다.\")\n",
    "        "
   ]
  },
  {
   "cell_type": "code",
   "execution_count": 2,
   "metadata": {},
   "outputs": [
    {
     "name": "stdout",
     "output_type": "stream",
     "text": [
      "두 개의 파티에 모두 참석한 사람은 {'Park'}\n"
     ]
    }
   ],
   "source": [
    "#LAB 8-3\n",
    "partyA = {\"Park\",\"Kim\",\"Lee\"}\n",
    "partyB = {\"Park\",\"Choi\"}\n",
    "\n",
    "print(f\"두 개의 파티에 모두 참석한 사람은 {partyA.intersection(partyB)}\")"
   ]
  },
  {
   "cell_type": "code",
   "execution_count": 11,
   "metadata": {},
   "outputs": [
    {
     "name": "stdout",
     "output_type": "stream",
     "text": [
      "파티 A,B에 참석한 사람들 {'Choi', 'Kim', 'Lee', 'Park'}\n",
      "파티 A,B에 중복없이 참석한 사람 : {'Choi', 'Lee', 'Kim'}\n",
      "파티 A에만 참석한 사람 : {'Lee', 'Kim'}\n"
     ]
    }
   ],
   "source": [
    "#8-3\n",
    "partyA = {\"Park\",\"Kim\",\"Lee\"}\n",
    "partyB = {\"Park\",\"Choi\"}\n",
    "\n",
    "#1)\n",
    "print(f\"파티 A,B에 참석한 사람들 {partyA | partyB}\")\n",
    "\n",
    "#2)\n",
    "print(f\"파티 A,B에 중복없이 참석한 사람 : {partyA.symmetric_difference(partyB)}\")\n",
    "\n",
    "#3)\n",
    "print(f\"파티 A에만 참석한 사람 : {partyA-partyB}\")"
   ]
  },
  {
   "cell_type": "code",
   "execution_count": 3,
   "metadata": {},
   "outputs": [
    {
     "name": "stdout",
     "output_type": "stream",
     "text": [
      "10 의 진약수 : [2, 5]\n"
     ]
    }
   ],
   "source": [
    "#진약수\n",
    "\n",
    "num = 10\n",
    "div = []\n",
    "\n",
    "for i in range(2,num):\n",
    "    if num % i == 0:\n",
    "        div.append(i)\n",
    "print(num,\"의 진약수 :\",div)"
   ]
  },
  {
   "cell_type": "code",
   "execution_count": 5,
   "metadata": {},
   "outputs": [
    {
     "name": "stdout",
     "output_type": "stream",
     "text": [
      "48의 진약수 : {2, 3, 4, 6, 8, 12, 16, 24}\n",
      "60의 진약수 : {2, 3, 4, 5, 6, 10, 12, 15, 20, 30}\n"
     ]
    }
   ],
   "source": [
    "#진약수 2\n",
    "\n",
    "def get_divisors(num):\n",
    "    divisors = set()\n",
    "    for i in range(2,num):\n",
    "        if num%i == 0:\n",
    "            divisors.add(i)\n",
    "    return divisors\n",
    "\n",
    "x = 48\n",
    "print(f\"{x}의 진약수 : {get_divisors(x)}\")\n",
    "y = 60\n",
    "print(f\"{y}의 진약수 : {get_divisors(y)}\")"
   ]
  }
 ],
 "metadata": {
  "kernelspec": {
   "display_name": "Python 3",
   "language": "python",
   "name": "python3"
  },
  "language_info": {
   "codemirror_mode": {
    "name": "ipython",
    "version": 3
   },
   "file_extension": ".py",
   "mimetype": "text/x-python",
   "name": "python",
   "nbconvert_exporter": "python",
   "pygments_lexer": "ipython3",
   "version": "3.8.5"
  }
 },
 "nbformat": 4,
 "nbformat_minor": 4
}
