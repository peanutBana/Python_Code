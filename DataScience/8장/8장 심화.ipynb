{
 "cells": [
  {
   "cell_type": "code",
   "execution_count": 6,
   "metadata": {},
   "outputs": [
    {
     "name": "stdout",
     "output_type": "stream",
     "text": [
      "사과, 배, 수박, 귤, 포도의 가격을 공백으로 구분하여 입력 : 1 2 3 4 5\n",
      "구매를 원하는 과일의 이름을 입력하시오 : 사과\n",
      "오늘의 수박 가격은 1원 입니다\n"
     ]
    }
   ],
   "source": [
    "#8-2\n",
    "fruits_dic = {\"사과\":0, \"배\":0, \"수박\":0, \"귤\":0, \"포도\":0}\n",
    "\n",
    "a = list(map(int,input(\"사과, 배, 수박, 귤, 포도의 가격을 공백으로 구분하여 입력 : \").split()))\n",
    "idx = 0\n",
    "\n",
    "for i in fruits_dic.keys():\n",
    "    fruits_dic[i] = a[idx]\n",
    "    idx+=1 \n",
    "\n",
    "    \n",
    "f = input(\"구매를 원하는 과일의 이름을 입력하시오 : \")\n",
    "print(f\"오늘의 수박 가격은 {fruits_dic[f]}원 입니다\")"
   ]
  },
  {
   "cell_type": "code",
   "execution_count": 4,
   "metadata": {},
   "outputs": [
    {
     "name": "stdout",
     "output_type": "stream",
     "text": [
      "사과, 배, 수박, 귤, 포도의 가격을 공백으로 구분하여 입력 : 1 2 3 4 5\n",
      "사과 : 1\n",
      "배 : 2\n",
      "수박 : 3\n",
      "귤 : 4\n",
      "포도 : 5\n"
     ]
    }
   ],
   "source": [
    "#8-1\n",
    "\n",
    "fruits_dic = {\"사과\":0, \"배\":0, \"수박\":0, \"귤\":0, \"포도\":0}\n",
    "\n",
    "a = list(map(int,input(\"사과, 배, 수박, 귤, 포도의 가격을 공백으로 구분하여 입력 : \").split()))\n",
    "idx = 0\n",
    "\n",
    "for i in fruits_dic.keys():\n",
    "    fruits_dic[i] = a[idx]\n",
    "    idx+=1 \n",
    "    \n",
    "    print(f\"{i} : {fruits_dic[i]}\")"
   ]
  },
  {
   "cell_type": "code",
   "execution_count": 4,
   "metadata": {},
   "outputs": [
    {
     "name": "stdout",
     "output_type": "stream",
     "text": [
      "학생의 정보 목록\n",
      "211101 : ('최성훈', '010-1234-4500')\n",
      "211102 : ('김은지', '010-2230-6540')\n",
      "211103 : ('이세은', '010-3232-7788')\n"
     ]
    }
   ],
   "source": [
    "#8-3-1\n",
    "\n",
    "student_tup = ((\"211101\",\"최성훈\",\"010-1234-4500\"),(\"211102\",\"김은지\",\"010-2230-6540\"),(\"211103\",\"이세은\",\"010-3232-7788\"))\n",
    "\n",
    "lst1=[]\n",
    "lst2=[]\n",
    "student_dic = {}\n",
    "\n",
    "\n",
    "for i in student_tup:\n",
    "    lst1.append(i[0])\n",
    "\n",
    "for i in student_tup:\n",
    "    lst2.append(i[1:])\n",
    "\n",
    "for i in range(3):\n",
    "    student_dic[lst1[i]]=lst2[i]\n",
    "    \n",
    "print(\"학생의 정보 목록\")\n",
    "for i in student_dic.keys():\n",
    "    print(i,\":\",student_dic[i])"
   ]
  },
  {
   "cell_type": "code",
   "execution_count": 1,
   "metadata": {},
   "outputs": [
    {
     "name": "stdout",
     "output_type": "stream",
     "text": [
      "학번을 입력하시오 : 211101\n"
     ]
    },
    {
     "ename": "NameError",
     "evalue": "name 'student_dic' is not defined",
     "output_type": "error",
     "traceback": [
      "\u001b[0;31m---------------------------------------------------------------------------\u001b[0m",
      "\u001b[0;31mNameError\u001b[0m                                 Traceback (most recent call last)",
      "\u001b[0;32m<ipython-input-1-e7b1deeb6299>\u001b[0m in \u001b[0;36m<module>\u001b[0;34m\u001b[0m\n\u001b[1;32m      3\u001b[0m \u001b[0;34m\u001b[0m\u001b[0m\n\u001b[1;32m      4\u001b[0m \u001b[0mstd_num\u001b[0m \u001b[0;34m=\u001b[0m \u001b[0minput\u001b[0m\u001b[0;34m(\u001b[0m\u001b[0;34m\"학번을 입력하시오 : \"\u001b[0m\u001b[0;34m)\u001b[0m\u001b[0;34m\u001b[0m\u001b[0;34m\u001b[0m\u001b[0m\n\u001b[0;32m----> 5\u001b[0;31m \u001b[0mprint\u001b[0m\u001b[0;34m(\u001b[0m\u001b[0mstudent_dic\u001b[0m\u001b[0;34m[\u001b[0m\u001b[0mstd_num\u001b[0m\u001b[0;34m]\u001b[0m\u001b[0;34m[\u001b[0m\u001b[0;36m0\u001b[0m\u001b[0;34m]\u001b[0m\u001b[0;34m)\u001b[0m\u001b[0;34m\u001b[0m\u001b[0;34m\u001b[0m\u001b[0m\n\u001b[0m\u001b[1;32m      6\u001b[0m \u001b[0mprint\u001b[0m\u001b[0;34m(\u001b[0m\u001b[0mstudent_dic\u001b[0m\u001b[0;34m[\u001b[0m\u001b[0mstd_num\u001b[0m\u001b[0;34m]\u001b[0m\u001b[0;34m[\u001b[0m\u001b[0;36m1\u001b[0m\u001b[0;34m]\u001b[0m\u001b[0;34m)\u001b[0m\u001b[0;34m\u001b[0m\u001b[0;34m\u001b[0m\u001b[0m\n",
      "\u001b[0;31mNameError\u001b[0m: name 'student_dic' is not defined"
     ]
    }
   ],
   "source": [
    "#8-3-2\n",
    "\n",
    "    \n",
    "std_num = input(\"학번을 입력하시오 : \")\n",
    "print(student_dic[std_num][0])\n",
    "print(student_dic[std_num][1])"
   ]
  },
  {
   "cell_type": "code",
   "execution_count": 49,
   "metadata": {},
   "outputs": [
    {
     "data": {
      "text/plain": [
       "{'211101': ('최성훈', '010-1234-4500'),\n",
       " '211102': ('김은지', '010-2230-6540'),\n",
       " '211103': ('이세은', '010-3232-7788')}"
      ]
     },
     "execution_count": 49,
     "metadata": {},
     "output_type": "execute_result"
    }
   ],
   "source": [
    "#8-3-2\n",
    "student_tup = ((\"211101\",\"최성훈\",\"010-1234-4500\"),(\"211102\",\"김은지\",\"010-2230-6540\"),(\"211103\",\"이세은\",\"010-3232-7788\"))\n",
    "\n",
    "lst1=[]\n",
    "lst2=[]\n",
    "student_dic = {}\n",
    "\n",
    "for i in student_tup:\n",
    "    lst1.append(i[0])\n",
    "\n",
    "for i in student_tup:\n",
    "    lst2.append(i[1:])\n",
    "\n",
    "for i in range(3):\n",
    "    student_dic[lst1[i]]=lst2[i]\n",
    "    \n",
    "student_dic"
   ]
  },
  {
   "cell_type": "code",
   "execution_count": 73,
   "metadata": {},
   "outputs": [
    {
     "name": "stdout",
     "output_type": "stream",
     "text": [
      "[40, 50]\n"
     ]
    }
   ],
   "source": [
    "#8-4\n",
    "lst = [10,30,40,50,30,30,20,20,20,10,30]\n",
    "\n",
    "#8-4-1\n",
    "lst3 = []\n",
    "for i in range(len(lst)):\n",
    "    if lst.count(lst[i]) == 1:\n",
    "        lst3.append(lst[i])\n",
    "print(lst3)"
   ]
  },
  {
   "cell_type": "code",
   "execution_count": 94,
   "metadata": {},
   "outputs": [
    {
     "name": "stdout",
     "output_type": "stream",
     "text": [
      "[10, 20, 30, 40, 50]\n"
     ]
    }
   ],
   "source": [
    "lst1 = set(lst)\n",
    "lst3 = []\n",
    "for i in lst1:\n",
    "    lst3.append(i)\n",
    "print(sorted(lst3))"
   ]
  },
  {
   "cell_type": "code",
   "execution_count": 84,
   "metadata": {},
   "outputs": [
    {
     "name": "stdout",
     "output_type": "stream",
     "text": [
      "10 : 3회\n",
      "20 : 4회\n",
      "30 : 5회\n"
     ]
    }
   ],
   "source": [
    "#8-4-3\n",
    "\n",
    "cnt10 = 1\n",
    "cnt20 = 1\n",
    "cnt30 = 1\n",
    "\n",
    "for i in lst:\n",
    "    if i == 10:\n",
    "        cnt10+=1\n",
    "    elif i == 20:\n",
    "        cnt20+=1\n",
    "    elif i  == 30:\n",
    "        cnt30+=1\n",
    "print(f\"10 : {cnt10}회\\n20 : {cnt20}회\\n30 : {cnt30}회\")"
   ]
  },
  {
   "cell_type": "code",
   "execution_count": 98,
   "metadata": {},
   "outputs": [
    {
     "name": "stdout",
     "output_type": "stream",
     "text": [
      "211101 : 강이안\n",
      "211102 : 박동민\n",
      "211103 : 김수정\n"
     ]
    }
   ],
   "source": [
    "#8-6\n",
    "\n",
    "s_tuple = [(\"211101\",\"강이안\",\"010-123-1111\"),(\"211102\",\"박동민\",\"010-123-2222\"),(\"211103\",\"김수정\",\"010-123-3333\")]\n",
    "s_dic={}\n",
    "for i in s_tuple:\n",
    "    s_dic[i[0]]=i[1]\n",
    "for i,j in s_dic.items():\n",
    "    print(f\"{i} : {j}\")\n"
   ]
  },
  {
   "cell_type": "code",
   "execution_count": 102,
   "metadata": {},
   "outputs": [
    {
     "name": "stdout",
     "output_type": "stream",
     "text": [
      "학번을 입력하세요 : 211102\n",
      "211102 학생은 박동민이며, 전화번호는 010-123-2222입니다.\n"
     ]
    }
   ],
   "source": [
    "#8-6-2\n",
    "\n",
    "std_num = input(\"학번을 입력하세요 : \")\n",
    "i_dic={}\n",
    "for i in s_tuple:\n",
    "    i_dic[i[0]]=[i[1],i[2]]\n",
    "print(f\"{std_num} 학생은 {i_dic[std_num][0]}이며, 전화번호는 {i_dic[std_num][1]}입니다.\")"
   ]
  }
 ],
 "metadata": {
  "kernelspec": {
   "display_name": "Python 3",
   "language": "python",
   "name": "python3"
  },
  "language_info": {
   "codemirror_mode": {
    "name": "ipython",
    "version": 3
   },
   "file_extension": ".py",
   "mimetype": "text/x-python",
   "name": "python",
   "nbconvert_exporter": "python",
   "pygments_lexer": "ipython3",
   "version": "3.8.5"
  }
 },
 "nbformat": 4,
 "nbformat_minor": 4
}
