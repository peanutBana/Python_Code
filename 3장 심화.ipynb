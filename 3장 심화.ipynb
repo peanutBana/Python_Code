{
 "cells": [
  {
   "cell_type": "code",
   "execution_count": 2,
   "metadata": {},
   "outputs": [
    {
     "name": "stdout",
     "output_type": "stream",
     "text": [
      "2의 제곱근 = 1.4142135623730951\n",
      "3의 제곱근 = 1.7320508075688772\n",
      "4의 제곱근 = 2.0\n",
      "5의 제곱근 = 2.23606797749979\n",
      "6의 제곱근 = 2.449489742783178\n",
      "7의 제곱근 = 2.6457513110645907\n",
      "8의 제곱근 = 2.8284271247461903\n",
      "9의 제곱근 = 3.0\n"
     ]
    }
   ],
   "source": [
    "#3.2\n",
    "\n",
    "for i in range(2,10):\n",
    "    print(f\"{i}의 제곱근 = {i**0.5}\")"
   ]
  },
  {
   "cell_type": "code",
   "execution_count": 5,
   "metadata": {},
   "outputs": [
    {
     "name": "stdout",
     "output_type": "stream",
     "text": [
      "2 4 8 16 32 64 128 256 512 1024 "
     ]
    }
   ],
   "source": [
    "#3.3\n",
    "\n",
    "for i in range(10):\n",
    "    print(2<<i,end=\" \")"
   ]
  },
  {
   "cell_type": "code",
   "execution_count": 8,
   "metadata": {},
   "outputs": [
    {
     "name": "stdout",
     "output_type": "stream",
     "text": [
      "정수를 입력하시오 : 120\n",
      "입력된 정수는 0에서 100의 번위 안에 있는 짝수인가요? False\n"
     ]
    }
   ],
   "source": [
    "#3.4\n",
    "\n",
    "n = int(input(\"정수를 입력하시오 : \"))\n",
    "\n",
    "if n>=0 and n <=100 and n%2 == 0:\n",
    "    print(\"입력된 정수는 0에서 100의 번위 안에 있는 짝수인가요? True\")\n",
    "else:\n",
    "    print(\"입력된 정수는 0에서 100의 번위 안에 있는 짝수인가요? False\")"
   ]
  },
  {
   "cell_type": "code",
   "execution_count": 15,
   "metadata": {},
   "outputs": [
    {
     "name": "stdout",
     "output_type": "stream",
     "text": [
      "0b101 & 0b110 = 0b100\n",
      "0b101 | 0b110 = 0b111\n",
      "0b101 ^ 0b110 = 0b11\n"
     ]
    }
   ],
   "source": [
    "#3.5\n",
    "\n",
    "print(f\"{bin(5)} & {bin(6)} = {bin(5&6)}\")\n",
    "print(f\"{bin(5)} | {bin(6)} = {bin(5|6)}\")\n",
    "print(f\"{bin(5)} ^ {bin(6)} = {bin(5^6)}\")\n",
    "\n"
   ]
  },
  {
   "cell_type": "code",
   "execution_count": 16,
   "metadata": {},
   "outputs": [
    {
     "name": "stdout",
     "output_type": "stream",
     "text": [
      "정수 a를 입력하시오 : 202\n",
      "정수 b를 입력하시오 : 50\n",
      "a / b의 몫 : 4\n",
      "a / b의 나머지 : 2\n"
     ]
    }
   ],
   "source": [
    "#3.6\n",
    "\n",
    "a = int(input(\"정수 a를 입력하시오 : \"))\n",
    "b = int(input(\"정수 b를 입력하시오 : \"))\n",
    "\n",
    "print(f\"a / b의 몫 : {a//b}\")\n",
    "print(f\"a / b의 나머지 : {a%b}\")\n"
   ]
  },
  {
   "cell_type": "code",
   "execution_count": 19,
   "metadata": {},
   "outputs": [
    {
     "name": "stdout",
     "output_type": "stream",
     "text": [
      "세 자리 정수를 입력하시오 : 264\n",
      "백의 자리 : 2\n",
      "십의 자리 : 6\n",
      "일의 자리 : 4\n"
     ]
    }
   ],
   "source": [
    "#3.7\n",
    "\n",
    "n = int(input(\"세 자리 정수를 입력하시오 : \"))\n",
    "print(f\"백의 자리 : {n//100}\")\n",
    "n%=100\n",
    "print(f\"십의 자리 : {n//10}\")\n",
    "n%=10\n",
    "print(f\"일의 자리 : {n}\")"
   ]
  },
  {
   "cell_type": "code",
   "execution_count": 26,
   "metadata": {},
   "outputs": [
    {
     "name": "stdout",
     "output_type": "stream",
     "text": [
      "세 자리 정수를 입력하시오 : 349\n",
      "9\n",
      "4\n",
      "3\n"
     ]
    }
   ],
   "source": [
    "#3.8\n",
    "\n",
    "n = int(input(\"세 자리 정수를 입력하시오 : \"))\n",
    "print(n%10)    #340 + 9\n",
    "n //= 10       # 34\n",
    "print(n%10)    # 30 + 4\n",
    "n //= 10       #3\n",
    "print(n)\n",
    "            "
   ]
  },
  {
   "cell_type": "code",
   "execution_count": 33,
   "metadata": {},
   "outputs": [
    {
     "name": "stdout",
     "output_type": "stream",
     "text": [
      "세 자리 정수를 입력하시오 : 349\n",
      "943\n"
     ]
    }
   ],
   "source": [
    "#3.8-2\n",
    "\n",
    "n = input(\"세 자리 정수를 입력하시오 : \")\n",
    "\n",
    "print(n[::-1])\n",
    "\n",
    "\n",
    "#print(n%10,end=\"\")    #340 + 9\n",
    "#n //= 10       # 34\n",
    "#print(n%10,end=\"\")    # 30 + 4\n",
    "#n //= 10       #3\n",
    "#print(n)\n",
    "            \n"
   ]
  },
  {
   "cell_type": "code",
   "execution_count": null,
   "metadata": {},
   "outputs": [],
   "source": [
    "#3.9\n",
    "\n",
    "speed = float(input(\"평균 시속(km/h)을 입력하세요 : \")) \n",
    "hour = float(input(\"이동시간(h)을 입력하세요 : \"))\n",
    "\n",
    "hour = int(hour*3600)\n",
    "\n",
    "print(f\"평균 시속 : {speed} km/h\") \n",
    "print(f\"이동 시간 : \")"
   ]
  },
  {
   "cell_type": "code",
   "execution_count": 1,
   "metadata": {},
   "outputs": [
    {
     "name": "stdout",
     "output_type": "stream",
     "text": [
      "x1의 좌표를 입력하시오 : 0\n",
      "y1의 좌표를 입력하시오 : 0\n",
      "x2의 좌표를 입력하시오 : 3\n",
      "y2의 좌표를 입력하시오 : 4\n",
      "두 점의 거리 = 5.0\n"
     ]
    }
   ],
   "source": [
    "#3.10\n",
    "\n",
    "x1 = int(input(\"x1의 좌표를 입력하시오 : \"))\n",
    "y1 = int(input(\"y1의 좌표를 입력하시오 : \"))\n",
    "x2 = int(input(\"x2의 좌표를 입력하시오 : \"))\n",
    "y2 = int(input(\"y2의 좌표를 입력하시오 : \"))\n",
    "\n",
    "print(f\"두 점의 거리 : {((x1-x2)**2+(y1-y2)**2)**0.5}\")"
   ]
  },
  {
   "cell_type": "code",
   "execution_count": 2,
   "metadata": {},
   "outputs": [
    {
     "name": "stdout",
     "output_type": "stream",
     "text": [
      "x1의 좌표를 입력하시오 : 0\n",
      "y1의 좌표를 입력하시오 : 0\n",
      "x2의 좌표를 입력하시오 : 3\n",
      "y2의 좌표를 입력하시오 : 4\n",
      "직각삼각형의 면적은 : 6.0\n"
     ]
    }
   ],
   "source": [
    "#3.11\n",
    "\n",
    "x1 = int(input(\"x1의 좌표를 입력하시오 : \"))\n",
    "y1 = int(input(\"y1의 좌표를 입력하시오 : \"))\n",
    "x2 = int(input(\"x2의 좌표를 입력하시오 : \"))\n",
    "y2 = int(input(\"y2의 좌표를 입력하시오 : \"))\n",
    "\n",
    "print(f\"직각삼각형의 면적은 : {(x2-x1)*(y2-y1)*0.5}\")"
   ]
  },
  {
   "cell_type": "code",
   "execution_count": 10,
   "metadata": {},
   "outputs": [
    {
     "name": "stdout",
     "output_type": "stream",
     "text": [
      "모서리의 길이가 13인 정육면체의 부피 : 2197\n",
      "\n",
      "모서리의 길이가 13인 정육면체의 부피 : 10648\n",
      "\n",
      "가로,세로,길이가 각각 17,25,16인 직육면체의 부피 : 1200\n",
      "\n",
      "반지름과 높이가 각각 10,15인 원뿔의 부피 : 1569.9999999999998\n",
      "\n",
      "반지름이 25인 구의 부피 : 65416.666666666664\n",
      "\n",
      "반지름과 높이라 각각 10, 15인 원기둥의 부피 : 4710.0\n"
     ]
    }
   ],
   "source": [
    "#3.12\n",
    "\n",
    "import math\n",
    "\n",
    "#1\n",
    "s = 13\n",
    "print(f\"모서리의 길이가 13인 정육면체의 부피 : {s**3}\\n\")\n",
    "\n",
    "#2\n",
    "s = 22\n",
    "print(f\"모서리의 길이가 13인 정육면체의 부피 : {s**3}\\n\")\n",
    "\n",
    "#3\n",
    "w = 3\n",
    "h = 25\n",
    "l = 16\n",
    "print(f\"가로,세로,길이가 각각 17,25,16인 직육면체의 부피 : {w*h*l}\\n\")\n",
    "\n",
    "#4\n",
    "r = 10\n",
    "h = 15\n",
    "PI = 3.14\n",
    "print(f\"반지름과 높이가 각각 10,15인 원뿔의 부피 : {1/3*PI*r**2*h}\\n\")\n",
    "\n",
    "#5\n",
    "r = 25\n",
    "print(f\"반지름이 25인 구의 부피 : {4/3*PI*r**3}\\n\")\n",
    "\n",
    "#6\n",
    "r = 10\n",
    "h = 15\n",
    "print(f\"반지름과 높이라 각각 10, 15인 원기둥의 부피 : {PI*r**2*h}\")\n"
   ]
  },
  {
   "cell_type": "code",
   "execution_count": null,
   "metadata": {},
   "outputs": [],
   "source": [
    "    "
   ]
  }
 ],
 "metadata": {
  "kernelspec": {
   "display_name": "Python 3 (ipykernel)",
   "language": "python",
   "name": "python3"
  },
  "language_info": {
   "codemirror_mode": {
    "name": "ipython",
    "version": 3
   },
   "file_extension": ".py",
   "mimetype": "text/x-python",
   "name": "python",
   "nbconvert_exporter": "python",
   "pygments_lexer": "ipython3",
   "version": "3.10.2"
  }
 },
 "nbformat": 4,
 "nbformat_minor": 4
}
