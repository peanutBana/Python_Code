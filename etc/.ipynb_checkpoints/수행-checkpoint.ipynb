{
 "cells": [
  {
   "cell_type": "code",
   "execution_count": 19,
   "metadata": {},
   "outputs": [
    {
     "name": "stdout",
     "output_type": "stream",
     "text": [
      "['가1A', '가1B', '가2A', '가2B', '가3A', '가3B', '가4A', '가4B', '나1A', '나1B', '나2A', '나2B', '나3A', '나3B', '나4A', '나4B', '다1A', '다1B', '다2A', '다2B', '다3A', '다3B', '다4A', '다4B']\n"
     ]
    }
   ],
   "source": [
    "#1\n",
    "\n",
    "a = ('가','나','다')\n",
    "b = (1,2,3,4)\n",
    "c = ('A','B')\n",
    "\n",
    "lst =[]\n",
    "\n",
    "a=[x for x in a]\n",
    "b=[str(x) for x in b]\n",
    "c=[x for x in c]\n",
    "\n",
    "for i in a:\n",
    "    for j in b:\n",
    "        for k in c:\n",
    "            .append(i+j+k)\n",
    "print(lst)"
   ]
  },
  {
   "cell_type": "code",
   "execution_count": 48,
   "metadata": {},
   "outputs": [
    {
     "name": "stdout",
     "output_type": "stream",
     "text": [
      "문장 입력: \n",
      "Sua7@daelim is only 24 but implemented 11 AI model is including GPT-8.\n",
      "영단어 : ['Sua7@daelim is only 24 but implemented 11 AI model is including GPT-8.']\n",
      "숫자 : ['24', '11']\n"
     ]
    }
   ],
   "source": [
    "#2\n",
    "import re\n",
    "\n",
    "#Sua7@daelim is only 24 but implemented 11 AI model is including GPT-8.\n",
    "\n",
    "str = input(\"문장 입력: \\n\")\n",
    "\n",
    "eng = re.findall('.+[^0-9]',str)\n",
    "num = re.findall('\\d+\\d',str)\n",
    "#mix = re.finadlll('',str)\n",
    "\n",
    "print(\"영단어 :\",eng)\n",
    "print(\"숫자 :\",num)"
   ]
  },
  {
   "cell_type": "code",
   "execution_count": 10,
   "metadata": {},
   "outputs": [
    {
     "name": "stdout",
     "output_type": "stream",
     "text": [
      "[[ 0  1  2  3  4]\n",
      " [ 5  6  7  8  9]\n",
      " [10 11 12 13 14]\n",
      " [15 16 17 18 19]] \n",
      "\n",
      "a: [[ 6  7  8  9]\n",
      " [11 12 13 14]] \n",
      "\n",
      "b: [[ 2  3  4]\n",
      " [12 13 14]] \n",
      "\n",
      "c: [[10 12 14]\n",
      " [15 17 19]] \n",
      "\n",
      "d: [[ 5  8]\n",
      " [15 18]] \n",
      "\n"
     ]
    }
   ],
   "source": [
    "#3\n",
    "import numpy as np\n",
    "\n",
    "num_arr = np.arange(20)\n",
    "num_arr = num_arr.reshape(4,5)\n",
    "print(num_arr,\"\\n\")\n",
    "\n",
    "######\n",
    "\n",
    "print(\"a:\",num_arr[1:3,1:5],\"\\n\")\n",
    "\n",
    "print(\"b:\",num_arr[::2,2:5],\"\\n\")\n",
    "\n",
    "print(\"c:\",num_arr[2:,::2],\"\\n\")\n",
    "\n",
    "print(\"d:\",num_arr[1::2,::3],\"\\n\")"
   ]
  }
 ],
 "metadata": {
  "kernelspec": {
   "display_name": "Python 3 (ipykernel)",
   "language": "python",
   "name": "python3"
  },
  "language_info": {
   "codemirror_mode": {
    "name": "ipython",
    "version": 3
   },
   "file_extension": ".py",
   "mimetype": "text/x-python",
   "name": "python",
   "nbconvert_exporter": "python",
   "pygments_lexer": "ipython3",
   "version": "3.10.2"
  }
 },
 "nbformat": 4,
 "nbformat_minor": 4
}
