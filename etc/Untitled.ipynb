{
 "cells": [
  {
   "cell_type": "code",
   "execution_count": null,
   "id": "afc21dae",
   "metadata": {},
   "outputs": [],
   "source": [
    "from tkinter import *\n",
    "\n",
    "def click(key):\n",
    "    if key == '=':       # '='버튼이면 수식을 계산하여 결과를 표시한다\n",
    "        try:\n",
    "            result = eval(entry.get())\n",
    "            entry.delete(0, END)\n",
    "            entry.insert(END, str(result))\n",
    "        except:\n",
    "            entry.insert(END, \"오류!!!!!\")\n",
    "    elif key == 'C':\n",
    "        entry.delete(0, END)\n",
    "    else:\n",
    "        entry.insert(END, key)\n",
    "\n",
    "\n",
    "window = Tk()\n",
    "window.title(\"간단한 계산기\")\n",
    "\n",
    "buttons = ['7', '8', '9', '+', 'C',\n",
    "           '4', '5', '6', '-', ' ',\n",
    "           '1', '2', '3', '*', ' ',\n",
    "           '0', '.', '=', '/', ' ']\n",
    "\n",
    "#반복문으로 버튼을 생성한다.\n",
    "i = 0\n",
    "for b in buttons:\n",
    "    cmd = lambda x=b: click(x)\n",
    "    but = Button(window, text=b, width=5, relief='ridge', command=cmd)\n",
    "    but.grid(row=i//5+1, column=i%5)\n",
    "    i += 1\n",
    "\n",
    "#엔트리 위젯은 맨 윗줄의 5개의 셀에 걸쳐서 배치된다\n",
    "entry = Entry(window, width=33, bg='yellow')\n",
    "entry.grid(row=0, column=0, columnspan=5)\n",
    "\n",
    "window.mainloop()\n"
   ]
  },
  {
   "cell_type": "code",
   "execution_count": null,
   "id": "ce114f66",
   "metadata": {},
   "outputs": [],
   "source": []
  }
 ],
 "metadata": {
  "kernelspec": {
   "display_name": "Python 3 (ipykernel)",
   "language": "python",
   "name": "python3"
  },
  "language_info": {
   "codemirror_mode": {
    "name": "ipython",
    "version": 3
   },
   "file_extension": ".py",
   "mimetype": "text/x-python",
   "name": "python",
   "nbconvert_exporter": "python",
   "pygments_lexer": "ipython3",
   "version": "3.9.0"
  }
 },
 "nbformat": 4,
 "nbformat_minor": 5
}
