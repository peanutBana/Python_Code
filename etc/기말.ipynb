{
 "cells": [
  {
   "cell_type": "code",
   "execution_count": 7,
   "metadata": {},
   "outputs": [
    {
     "data": {
      "text/plain": [
       "[200, 100]"
      ]
     },
     "execution_count": 7,
     "metadata": {},
     "output_type": "execute_result"
    }
   ],
   "source": [
    "#7-1\n",
    " \n",
    "num_list = [100,200,300,400,500,600,700,800]\n",
    "\n",
    "num_list[-7:-9:-1]"
   ]
  },
  {
   "cell_type": "code",
   "execution_count": 11,
   "metadata": {},
   "outputs": [
    {
     "name": "stdout",
     "output_type": "stream",
     "text": [
      "3 * 2 = 6\n",
      "3 * 3 = 9\n",
      "3 * 4 = 12\n",
      "3 * 5 = 15\n",
      "3 * 6 = 18\n",
      "\n",
      "5 * 2 = 10\n",
      "5 * 3 = 15\n",
      "5 * 4 = 20\n",
      "5 * 5 = 25\n",
      "5 * 6 = 30\n",
      "\n",
      "7 * 2 = 14\n",
      "7 * 3 = 21\n",
      "7 * 4 = 28\n",
      "7 * 5 = 35\n",
      "7 * 6 = 42\n",
      "\n"
     ]
    }
   ],
   "source": [
    "#7-2\n",
    "\n",
    "lst1 = [3,5,7]\n",
    "lst2 = [2,3,4,5,6]\n",
    "\n",
    "for i in lst1:\n",
    "    for j in lst2:\n",
    "        print(f\"{i} * {j} = {i*j}\")\n",
    "    print()"
   ]
  },
  {
   "cell_type": "code",
   "execution_count": 15,
   "metadata": {},
   "outputs": [
    {
     "name": "stdout",
     "output_type": "stream",
     "text": [
      "I like pancakes.\n",
      "I like kiwi juice.\n",
      "I like espresso.\n",
      "I love pancakes.\n",
      "I love kiwi juice.\n",
      "I love espresso.\n"
     ]
    }
   ],
   "source": [
    "#7-3\n",
    "\n",
    "lst1 = [\"I like\",  \"I love\"]\n",
    "lst2 = [\"pancakes.\",\"kiwi juice.\",\"espresso.\"]\n",
    "\n",
    "for i in lst1:\n",
    "    for j in lst2:\n",
    "        print(f\"{i} {j}\")"
   ]
  },
  {
   "cell_type": "code",
   "execution_count": 32,
   "metadata": {},
   "outputs": [
    {
     "name": "stdout",
     "output_type": "stream",
     "text": [
      "['A1', 'A2', 'B1', 'B2', 'C1', 'C2']\n"
     ]
    }
   ],
   "source": [
    "#7-5\n",
    "\n",
    "#1)\n",
    "\"\"\"\n",
    "t1 = ('A','B','C')\n",
    "t2 = ('1','2')\n",
    "lst = []\n",
    "\n",
    "for i in t1:\n",
    "    for j in t2:\n",
    "        lst.append(i+j)\n",
    "lst\n",
    "\"\"\"\n",
    "#2)\n",
    "t1 = ('A','B','C')\n",
    "t2 = (1,2)\n",
    "lst=[]\n",
    "for i in t1:\n",
    "    for j in t2:\n",
    "        lst.append(i+str(j))\n",
    "\n",
    "print(lst)"
   ]
  },
  {
   "cell_type": "code",
   "execution_count": 40,
   "metadata": {},
   "outputs": [
    {
     "name": "stdout",
     "output_type": "stream",
     "text": [
      "문자열을 입력하세요 : python\n",
      "p\n",
      "py\n",
      "pyt\n",
      "pyth\n",
      "pytho\n",
      "python\n",
      "pytho\n",
      "pyth\n",
      "pyt\n",
      "py\n",
      "p\n",
      "\n"
     ]
    }
   ],
   "source": [
    "#7.6\n",
    "\n",
    "s = input(\"문자열을 입력하세요 : \")\n",
    "\n",
    "idx = 0\n",
    "\n",
    "for ch in s:\n",
    "    print(s[:idx+1])\n",
    "    idx+=1\n",
    "    \n",
    "for ch in s:\n",
    "    print(s[:idx-1])\n",
    "    idx-=1\n",
    "    \n",
    "    "
   ]
  },
  {
   "cell_type": "code",
   "execution_count": 56,
   "metadata": {},
   "outputs": [
    {
     "name": "stdout",
     "output_type": "stream",
     "text": [
      "가장 길이가 긴 문자열 : []\n",
      "f_list : ['banana', 'orange', 'kiwi', 'apple', 'melon']\n"
     ]
    }
   ],
   "source": [
    "#7.7\n",
    "\n",
    "#1)\n",
    "f_list = [\"banana\",\"orange\",\"kiwi\",\"apple\",\"melon\"]\n",
    "l_list = []\n",
    "m = len(max(f_list))\n",
    "idx = 0\n",
    "for i in f_list:\n",
    "    if len(i[idx]) == m:\n",
    "        f_list.remove(i[idx])\n",
    "        l_list.append(i[idx])\n",
    "    idx+=1  \n",
    "print(\"가장 길이가 긴 문자열 :\",l_list)\n",
    "print(\"f_list :\",f_list)\n",
    "\n"
   ]
  },
  {
   "cell_type": "code",
   "execution_count": 58,
   "metadata": {},
   "outputs": [
    {
     "name": "stdout",
     "output_type": "stream",
     "text": [
      "banana : 문자열의 길이 6\n",
      "orange : 문자열의 길이 6\n",
      "kiwi : 문자열의 길이 4\n",
      "apple : 문자열의 길이 5\n",
      "melon : 문자열의 길이 5\n"
     ]
    }
   ],
   "source": [
    "#2)\n",
    "\n",
    "for i in f_list:\n",
    "    print(f\"{i} : 문자열의 길이 {len(i)}\")"
   ]
  },
  {
   "cell_type": "code",
   "execution_count": 59,
   "metadata": {},
   "outputs": [
    {
     "ename": "SyntaxError",
     "evalue": "unexpected EOF while parsing (<ipython-input-59-bcf41e354ad1>, line 3)",
     "output_type": "error",
     "traceback": [
      "\u001b[0;36m  File \u001b[0;32m\"<ipython-input-59-bcf41e354ad1>\"\u001b[0;36m, line \u001b[0;32m3\u001b[0m\n\u001b[0;31m    n = int(input(\"n을 입력하시오 : \")\u001b[0m\n\u001b[0m                                ^\u001b[0m\n\u001b[0;31mSyntaxError\u001b[0m\u001b[0;31m:\u001b[0m unexpected EOF while parsing\n"
     ]
    }
   ],
   "source": [
    "#7.8\n",
    "\n",
    "n = int(input(\"n을 입력하시오 : \")"
   ]
  },
  {
   "cell_type": "code",
   "execution_count": 63,
   "metadata": {},
   "outputs": [
    {
     "name": "stdout",
     "output_type": "stream",
     "text": [
      "사전 프로그램 시작... 종료는 q를 입력\n",
      "$ >one\n",
      "one가 사전에없습니다.\n",
      "$ <one:하나\n",
      "$ >ㅑㅜㄷ\n",
      "ㅑㅜㄷ가 사전에없습니다.\n",
      "$ >one\n",
      "하나\n",
      "$ >q\n",
      "q가 사전에없습니다.\n",
      "$ >q\n",
      "q가 사전에없습니다.\n",
      "$ q\n",
      "사전 프로그램을 종료합니다.\n"
     ]
    }
   ],
   "source": [
    "#LAB 8-2\n",
    "\n",
    "print(\"사전 프로그램 시작... 종료는 q를 입력\")\n",
    "dic = {}\n",
    "\n",
    "while True:\n",
    "    st = input(\"$ \")\n",
    "    command = st[0]\n",
    "    if command == '<':\n",
    "        st = st[1:]\n",
    "        inputStr = st.split(':')\n",
    "        if len(inputStr) < 2:\n",
    "            print(\"입력 오류가 발생했습니다.\")\n",
    "        else:\n",
    "            dic[inputStr[0].strip()] = inputStr[1].strip()\n",
    "    elif command =='>':\n",
    "        st = st[1:]\n",
    "        inputStr = st.strip()\n",
    "        if inputStr in dic:\n",
    "            print(dic[inputStr])\n",
    "        else:\n",
    "            print(\"{}가 사전에없습니다.\".format(inputStr))\n",
    "    elif command =='q':\n",
    "        break\n",
    "    else:\n",
    "        print(\"입력 오류가 발생했습니다.\")\n",
    "print(\"사전 프로그램을 종료합니다.\")"
   ]
  },
  {
   "cell_type": "code",
   "execution_count": 72,
   "metadata": {},
   "outputs": [
    {
     "data": {
      "text/plain": [
       "False"
      ]
     },
     "execution_count": 72,
     "metadata": {},
     "output_type": "execute_result"
    }
   ],
   "source": [
    "a_set = {0,0,0,0}\n",
    "any(a_set)"
   ]
  },
  {
   "cell_type": "code",
   "execution_count": 86,
   "metadata": {},
   "outputs": [
    {
     "name": "stdout",
     "output_type": "stream",
     "text": [
      "사과, 배, 수박, 귤, 포도의 가격을 공백으로 구분하여 입력 : 3000 4500 6000 2400 3400\n",
      "----------오늘의 과일 가격---------\n",
      "사과 : 3000원\n",
      "배 : 4500원\n",
      "수박 : 6000원\n",
      "귤 : 2400원\n",
      "포도 : 3400원\n"
     ]
    }
   ],
   "source": [
    "#8.1\n",
    "\n",
    "fruits_dic = {\"사과\":0, \"배\":0, \"수박\":0, \"귤\":0, \"포도\":0}\n",
    "idx = 0\n",
    "a = list(map(int,input(\"사과, 배, 수박, 귤, 포도의 가격을 공백으로 구분하여 입력 : \").split()))\n",
    "\n",
    "print(\"----------오늘의 과일 가격---------\")\n",
    "\n",
    "for i in fruits_dic.keys():\n",
    "    fruits_dic[i] = a[idx]\n",
    "    idx+=1\n",
    "\n",
    "for a,b in fruits_dic.items():\n",
    "    print(f\"{a} : {b}원\")\n"
   ]
  },
  {
   "cell_type": "code",
   "execution_count": 89,
   "metadata": {},
   "outputs": [
    {
     "name": "stdout",
     "output_type": "stream",
     "text": [
      "구매를 원하는 과일의 이름을 입력하시오 : 수박\n",
      "오늘의수박의 가격은 6000원 입니다.\n"
     ]
    }
   ],
   "source": [
    "#8.2\n",
    "\n",
    "fruit = input(\"구매를 원하는 과일의 이름을 입력하시오 : \")\n",
    "print(f\"오늘의{fruit}의 가격은 {fruits_dic[fruit]}원 입니다.\")"
   ]
  },
  {
   "cell_type": "code",
   "execution_count": 131,
   "metadata": {},
   "outputs": [
    {
     "data": {
      "text/plain": [
       "{'211101': ['최성훈', '010-1234-4500'],\n",
       " '211102': ['김은지', '010-2230-6540'],\n",
       " '211103': ['이세은', '010-3232-7788']}"
      ]
     },
     "execution_count": 131,
     "metadata": {},
     "output_type": "execute_result"
    }
   ],
   "source": [
    "#8.3\n",
    "\n",
    "#1)\n",
    "student_tup = ()\n",
    "student_tup = ((\"211101\",\"최성훈\",\"010-1234-4500\"),(\"211102\",\"김은지\",\"010-2230-6540\"),(\"211103\",\"이세은\",\"010-3232-7788\"))\n",
    "\n",
    "std_num = []\n",
    "std_info = []\n",
    "dic = {}\n",
    "idx = 0\n",
    "\n",
    "for i in student_tup:\n",
    "    std_num.append(i[0])\n",
    "\n",
    "for i in student_tup:\n",
    "    std_info.append(list(i[1:]))\n",
    "\n",
    "for i in std_num:\n",
    "    dic[i] = std_info[idx]\n",
    "    idx+=1\n",
    "\n",
    "dic"
   ]
  },
  {
   "cell_type": "code",
   "execution_count": 102,
   "metadata": {},
   "outputs": [
    {
     "name": "stdout",
     "output_type": "stream",
     "text": [
      "학번을 입력하시오 : 211103\n",
      "이름 : 이세은\n",
      "연락처 : 010-3232-7788\n"
     ]
    }
   ],
   "source": [
    "#2)\n",
    "\n",
    "std_num = input(\"학번을 입력하시오 : \")\n",
    "print(f\"이름 : {dic[std_num][0]}\")\n",
    "print(f\"연락처 : {dic[std_num][1]}\")"
   ]
  },
  {
   "cell_type": "code",
   "execution_count": 132,
   "metadata": {},
   "outputs": [
    {
     "name": "stdout",
     "output_type": "stream",
     "text": [
      "학생의 정보 목록\n"
     ]
    },
    {
     "data": {
      "text/plain": [
       "{'211101': ['최성훈', '010-1234-4500', 4.3],\n",
       " '211102': ['김은지', '010-2230-6540', 3.9],\n",
       " '211103': ['이세은', '010-3232-7788', 4.25]}"
      ]
     },
     "execution_count": 132,
     "metadata": {},
     "output_type": "execute_result"
    }
   ],
   "source": [
    "#3)\n",
    "grade = [4.3, 3.9, 4.25]\n",
    "idx = 0\n",
    "print(\"학생의 정보 목록\")\n",
    "\n",
    "for i in dic.values():\n",
    "    i.append(grade[idx])\n",
    "    idx+=1\n",
    "dic"
   ]
  },
  {
   "cell_type": "code",
   "execution_count": 143,
   "metadata": {},
   "outputs": [
    {
     "name": "stdout",
     "output_type": "stream",
     "text": [
      "전체 학생의 평균 : 4.15\n"
     ]
    }
   ],
   "source": [
    "#4)\n",
    "sum = 0\n",
    "for i in dic.values():\n",
    "    sum += i[2]\n",
    "avg = sum / len(dic.values())\n",
    "\n",
    "print(f\"전체 학생의 평균 : {round(avg,2)}\")"
   ]
  },
  {
   "cell_type": "code",
   "execution_count": 156,
   "metadata": {},
   "outputs": [
    {
     "name": "stdout",
     "output_type": "stream",
     "text": [
      "중복이 없는 원소 : [40, 50]\n"
     ]
    }
   ],
   "source": [
    "#8.4\n",
    "\n",
    "lst = [10, 30, 40, 50, 30, 30, 20, 20, 20, 10, 30]\n",
    "lst1 = []\n",
    "\n",
    "#1)\n",
    "for i in lst:\n",
    "    if lst.count(i) == 1:\n",
    "        lst1.append(i)\n",
    "\n",
    "print(f\"중복이 없는 원소 : {lst1}\")"
   ]
  },
  {
   "cell_type": "code",
   "execution_count": 157,
   "metadata": {},
   "outputs": [
    {
     "name": "stdout",
     "output_type": "stream",
     "text": [
      "전체 원소 : [10, 20, 30, 40, 50]\n"
     ]
    }
   ],
   "source": [
    "#2)\n",
    "lst2 = sorted(list(set(lst)))\n",
    "print(f\"전체 원소 : {lst2}\")"
   ]
  },
  {
   "cell_type": "code",
   "execution_count": 160,
   "metadata": {},
   "outputs": [
    {
     "name": "stdout",
     "output_type": "stream",
     "text": [
      "10 : 3 회\n",
      "20 : 4 회\n",
      "30 : 5 회\n"
     ]
    }
   ],
   "source": [
    "#3)\n",
    "\n",
    "cnt10 = 1\n",
    "cnt20 = 1\n",
    "cnt30 = 1\n",
    "\n",
    "for i in lst:\n",
    "    if i == 10:\n",
    "        cnt10+=1\n",
    "    elif i == 20:\n",
    "        cnt20+=1\n",
    "    elif i  == 30:\n",
    "        cnt30+=1\n",
    "print(f\"10 : {cnt10} 회\\n20 : {cnt20} 회\\n30 : {cnt30} 회\")"
   ]
  },
  {
   "cell_type": "code",
   "execution_count": null,
   "metadata": {},
   "outputs": [
    {
     "name": "stdout",
     "output_type": "stream",
     "text": [
      "사전 프로그램 시작... 종료는 q를 입력\n"
     ]
    }
   ],
   "source": [
    "#8.5\n",
    "\n",
    "print(\"사전 프로그램 시작... 종료는 q를 입력\")\n",
    "dic = {}\n",
    "\n",
    "while True:\n",
    "    st = input(\"$ \")\n",
    "    command = st[0]\n",
    "    \n",
    "    if command == '<':\n",
    "        st = st[1:]\n",
    "        inputStr = st.split(':')\n",
    "        if len(inputStr) < 2:\n",
    "            print(\"입력 오류가 발생했습니다.\")\n",
    "        else:\n",
    "            dic[inputStr[0].strip()] = inputStr[1].strip()\n",
    "            \n",
    "    elif command =='>':\n",
    "        st = st[1:]\n",
    "        inputStr = st.strip()\n",
    "        if inputStr in dic:\n",
    "            print(dic[inputStr])\n",
    "        else:\n",
    "            print(\"{}가 사전에없습니다.\".format(inputStr))\n",
    "    elif command == '^':\n",
    "        for a,b in dic.items():\n",
    "            print(a,':',b)\n",
    "    elif command =='q':\n",
    "        break\n",
    "    else:\n",
    "        print(\"입력 오류가 발생했습니다.\")\n",
    "print(\"사전 프로그램을 종료합니다.\")"
   ]
  },
  {
   "cell_type": "code",
   "execution_count": 180,
   "metadata": {},
   "outputs": [
    {
     "name": "stdout",
     "output_type": "stream",
     "text": [
      "211101 : 강이안\n",
      "211102 : 박동민\n",
      "211103 : 김수정\n"
     ]
    }
   ],
   "source": [
    "#8.6\n",
    "#1)\n",
    "\n",
    "s_tuple = [(\"211101\",\"강이안\",\"010-123-1111\"),(\"211102\",\"박동민\",\"010-123-2222\"),(\"211103\",\"김수정\",\"010-123-3333\")]\n",
    "s_dic={}\n",
    "\n",
    "for i in s_tuple:\n",
    "    s_dic[i[0]]=i[1]\n",
    "    \n",
    "for i,j in s_dic.items():\n",
    "    print(f\"{i} : {j}\")"
   ]
  },
  {
   "cell_type": "code",
   "execution_count": 183,
   "metadata": {},
   "outputs": [
    {
     "name": "stdout",
     "output_type": "stream",
     "text": [
      "학번을 입력하시오 : 211101\n",
      "211101 학생은 강이안이며, 전화번호는 010-123-1111입니다.\n"
     ]
    }
   ],
   "source": [
    "#2)\n",
    "std_num = input(\"학번을 입력하시오 : \")\n",
    "\n",
    "i_dic={}\n",
    "for i in s_tuple:\n",
    "    i_dic[i[0]]=[i[1],i[2]]\n",
    "    \n",
    "print(f\"{std_num} 학생은 {i_dic[std_num][0]}이며, 전화번호는 {i_dic[std_num][1]}입니다.\")"
   ]
  },
  {
   "cell_type": "code",
   "execution_count": 189,
   "metadata": {},
   "outputs": [
    {
     "name": "stdout",
     "output_type": "stream",
     "text": [
      "119\n",
      "w\n"
     ]
    }
   ],
   "source": [
    "#유니코드\n",
    "\n",
    "s = \"www.booksr.co.kr\"\n",
    "\n",
    "print(ord('w'))\n",
    "print(chr(119))"
   ]
  },
  {
   "cell_type": "code",
   "execution_count": 192,
   "metadata": {},
   "outputs": [
    {
     "name": "stdout",
     "output_type": "stream",
     "text": [
      "ABCDEFGHIJKLMNOPQRSTUVWXYZ\n"
     ]
    }
   ],
   "source": [
    "import string\n",
    "\n",
    "src_str = string.ascii_uppercase\n",
    "\n",
    "\"\"\"\n",
    "string.ascii_uppercase\n",
    "string.ascii_lowercase\n",
    "string.ascii_letters\n",
    "\n",
    "\"\"\"\n",
    "\n",
    "print(src_str)"
   ]
  },
  {
   "cell_type": "code",
   "execution_count": 196,
   "metadata": {},
   "outputs": [
    {
     "name": "stdout",
     "output_type": "stream",
     "text": [
      "n 글자씩 이동시키기 : 1\n",
      "BCDEFGHIJKLMNOPQRSTUVWXYZA\n"
     ]
    }
   ],
   "source": [
    "#n 글자씩 옮기기\n",
    "\n",
    "n = int(input(\"n 글자씩 이동시키기 : \"))\n",
    "dst_str = src_str[n:]+src_str[:n]\n",
    "print(dst_str)"
   ]
  },
  {
   "cell_type": "code",
   "execution_count": 9,
   "metadata": {},
   "outputs": [
    {
     "name": "stdout",
     "output_type": "stream",
     "text": [
      "[ 1  2  3  4  5  6  7  8  9 10 11 12 13 14 15 16 17 18 19 20]\n",
      "[20 19 18 17 16 15 14 13 12 11 10  9  8  7  6  5  4  3  2  1]\n",
      "210\n",
      "[[ 1  2  3  4]\n",
      " [ 5  6  7  8]\n",
      " [ 9 10 11 12]\n",
      " [13 14 15 16]\n",
      " [17 18 19 20]]\n"
     ]
    }
   ],
   "source": [
    "#10-1\n",
    "\n",
    "import numpy as np\n",
    "\n",
    "num_arr = np.arange(1,21)\n",
    "\n",
    "print(num_arr)\n",
    "\n",
    "print(num_arr[::-1])\n",
    "\n",
    "print(sum(num_arr))\n",
    "\n",
    "print(num_arr.reshape(5,4))"
   ]
  },
  {
   "cell_type": "code",
   "execution_count": 26,
   "metadata": {},
   "outputs": [
    {
     "name": "stdout",
     "output_type": "stream",
     "text": [
      "[[ 0  1  2  3  4]\n",
      " [ 5  6  7  8  9]\n",
      " [10 11 12 13 14]\n",
      " [15 16 17 18 19]\n",
      " [20 21 22 23 24]] \n",
      "\n",
      "첫 원소 : [0 1 2 3 4]\n",
      "마지막 원소 : [20 21 22 23 24]\n",
      "\n",
      "[[0 1 2 3 4]\n",
      " [5 6 7 8 9]] \n",
      "\n",
      "[[10 11 12 13 14]\n",
      " [15 16 17 18 19]\n",
      " [20 21 22 23 24]] \n",
      "\n",
      "[[ 0  2  4]\n",
      " [ 5  7  9]\n",
      " [10 12 14]\n",
      " [15 17 19]\n",
      " [20 22 24]] \n",
      "\n",
      "[[ 0  2  4]\n",
      " [10 12 14]\n",
      " [20 22 24]] \n",
      "\n",
      "[[0 1]\n",
      " [2 3]\n",
      " [4 5]\n",
      " [6 7]\n",
      " [8 9]]\n"
     ]
    }
   ],
   "source": [
    "#10.2\n",
    "\n",
    "#1)\n",
    "n_arr = np.arange(25).reshape(5,5)\n",
    "print(n_arr,\"\\n\")\n",
    "\n",
    "#2)\n",
    "print(f\"첫 원소 : {n_arr[0]}\")\n",
    "print(f\"마지막 원소 : {n_arr[-1]}\\n\")\n",
    "\n",
    "#3)\n",
    "print(n_arr[0:2,],'\\n')\n",
    "\n",
    "#4)\n",
    "print(n_arr[2:,],'\\n')\n",
    "     \n",
    "#5)\n",
    "print(n_arr[::,::2],'\\n')\n",
    "\n",
    "#6)\n",
    "print(n_arr[::2,::2],'\\n')\n",
    "\n",
    "#7)\n",
    "print(n_arr[:2].reshape(5,2))"
   ]
  },
  {
   "cell_type": "code",
   "execution_count": 32,
   "metadata": {},
   "outputs": [
    {
     "name": "stdout",
     "output_type": "stream",
     "text": [
      "[[[0.40330618 0.7563441  0.42593646]\n",
      "  [0.91599555 0.42486492 0.1184758 ]\n",
      "  [0.85262689 0.74706166 0.42061004]]\n",
      "\n",
      " [[0.38008075 0.74683256 0.27264458]\n",
      "  [0.81420262 0.59893136 0.64193339]\n",
      "  [0.57404849 0.51276119 0.44371736]]\n",
      "\n",
      " [[0.176146   0.68257349 0.60722801]\n",
      "  [0.23010308 0.21076456 0.03741033]\n",
      "  [0.07158964 0.42365565 0.66783426]]] \n",
      "\n",
      "0.9159955532330519 \n",
      "\n",
      "a의 원소들 중 최댓값의 위치 : 3\n"
     ]
    }
   ],
   "source": [
    "#10.3\n",
    "\n",
    "#1)\n",
    "a = np.random.rand(3,3,3)\n",
    "print(a,'\\n')\n",
    "\n",
    "#2)\n",
    "print(np.max(a),'\\n')\n",
    "\n",
    "#3)\n",
    "print(f\"a의 원소들 중 최댓값의 위치 : {np.argmax(a)}\")"
   ]
  },
  {
   "cell_type": "code",
   "execution_count": 43,
   "metadata": {},
   "outputs": [
    {
     "name": "stdout",
     "output_type": "stream",
     "text": [
      "[[1 1 1 0 1]\n",
      " [1 0 0 1 0]\n",
      " [1 1 0 1 0]\n",
      " [1 1 1 1 1]\n",
      " [0 1 0 0 0]] \n",
      "\n",
      "행렬의 행 방향 성분의 합 : [4, 2, 3, 5, 1]\n"
     ]
    }
   ],
   "source": [
    "#10.4\n",
    "\n",
    "#1)\n",
    "arr = np.random.randint(2,size = (5,5))\n",
    "print(arr,'\\n')\n",
    "\n",
    "#2)\n",
    "ar_1 = []\n",
    "\n",
    "\n",
    "for i in arr:\n",
    "    ar_1.append(sum(i))\n",
    "print(f\"행렬의 행 방향 성분의 합 : {ar_1}\")"
   ]
  },
  {
   "cell_type": "code",
   "execution_count": 48,
   "metadata": {},
   "outputs": [
    {
     "name": "stdout",
     "output_type": "stream",
     "text": [
      "[11 32 11 13 14 15 16 19 21  2  2 18 26  4 25 17 12 26  7 32 29 11  9  7\n",
      " 20  1 14  2 20 27 20 32]\n",
      "10번째 원소 : 2\n",
      "20번째 원소 : 32\n"
     ]
    }
   ],
   "source": [
    "#10.5\n",
    "\n",
    "a = np.random.randint(33,size=(4,4,2))\n",
    "a = a.flatten()\n",
    "print(a,'\\n')\n",
    "print(f\"10번째 원소 : {a[9]}\\n20번째 원소 : {a[19]}\")"
   ]
  },
  {
   "cell_type": "code",
   "execution_count": 52,
   "metadata": {},
   "outputs": [
    {
     "name": "stdout",
     "output_type": "stream",
     "text": [
      "[[ 1.          0.9957304   0.87748291 -0.05492161]\n",
      " [ 0.9957304   1.          0.86789219 -0.05464434]\n",
      " [ 0.87748291  0.86789219  1.         -0.09078156]\n",
      " [-0.05492161 -0.05464434 -0.09078156  1.        ]]\n"
     ]
    }
   ],
   "source": [
    "#10.6\n",
    "\n",
    "x1 = [i for i in range(100)]\n",
    "x2 = [i + np.random.randint(1,10) for i in range(100)]\n",
    "x3 = [i + np.random.randint(1,50) for i in range(100)]\n",
    "x4 = [np.random.randint(1,100) for i in range(100)]\n",
    "\n",
    "res = np.corrcoef([x1,x2,x3,x4])\n",
    "print(res)"
   ]
  },
  {
   "cell_type": "code",
   "execution_count": 3,
   "metadata": {},
   "outputs": [
    {
     "data": {
      "text/plain": [
       "[<matplotlib.lines.Line2D at 0x7f842ceb34f0>]"
      ]
     },
     "execution_count": 3,
     "metadata": {},
     "output_type": "execute_result"
    },
    {
     "data": {
      "image/png": "[encoded data removed]",
      "text/plain": [
       "<Figure size 432x288 with 1 Axes>"
      ]
     },
     "metadata": {
      "needs_background": "light"
     },
     "output_type": "display_data"
    }
   ],
   "source": [
    "#11.1\n",
    "import matplotlib.pyplot as plt\n",
    "\n",
    "\n",
    "month = [\"7\",\"8\",\"9\",\"10\",\"11\",\"12\"]\n",
    "user = [456,492,578,599,670,854]\n",
    "\n",
    "plt.title(\"Daehan company speeda net new customers\")\n",
    "plt.ylabel(\"User\")\n",
    "plt.xlabel(\"Month\")\n",
    "plt.plot(month,user,color=\"blue\", linestyle=\"solid\")\n"
   ]
  }
 ],
 "metadata": {
  "kernelspec": {
   "display_name": "Python 3",
   "language": "python",
   "name": "python3"
  },
  "language_info": {
   "codemirror_mode": {
    "name": "ipython",
    "version": 3
   },
   "file_extension": ".py",
   "mimetype": "text/x-python",
   "name": "python",
   "nbconvert_exporter": "python",
   "pygments_lexer": "ipython3",
   "version": "3.8.5"
  }
 },
 "nbformat": 4,
 "nbformat_minor": 4
}
