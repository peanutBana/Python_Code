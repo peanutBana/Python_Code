{
 "cells": [
  {
   "cell_type": "code",
   "execution_count": 1,
   "metadata": {},
   "outputs": [
    {
     "name": "stdout",
     "output_type": "stream",
     "text": [
      "정수를 입력하시오 : 5\n",
      "5!은 120입니다.\n"
     ]
    }
   ],
   "source": [
    "#LAB 5-5\n",
    "\n",
    "n = int(input(\"정수를 입력하시오 : \"))\n",
    "\n",
    "a = 1\n",
    "for i in range(1,n+1):\n",
    "    a*=i\n",
    "print(f\"{n}!은 {a}입니다.\")"
   ]
  },
  {
   "cell_type": "code",
   "execution_count": 4,
   "metadata": {},
   "outputs": [
    {
     "name": "stdout",
     "output_type": "stream",
     "text": [
      "암호를 입력하시오 : pythonisfun\n",
      "로그인 성공\n"
     ]
    }
   ],
   "source": [
    "#LAB 5-6\n",
    "\n",
    "pw = \"pythonisfun\"\n",
    "\n",
    "while True:\n",
    "    passwd = input(\"암호를 입력하시오 : \")\n",
    "    if passwd == pw:\n",
    "        break\n",
    "print(\"로그인 성공\")"
   ]
  },
  {
   "cell_type": "code",
   "execution_count": 7,
   "metadata": {},
   "outputs": [
    {
     "name": "stdout",
     "output_type": "stream",
     "text": [
      "원하는 단은 : 9\n",
      "9 * 1 = 9\n",
      "9 * 2 = 18\n",
      "9 * 3 = 27\n",
      "9 * 4 = 36\n",
      "9 * 5 = 45\n",
      "9 * 6 = 54\n",
      "9 * 7 = 63\n",
      "9 * 8 = 72\n",
      "9 * 9 = 81\n"
     ]
    }
   ],
   "source": [
    "#LAB 5-7\n",
    "\n",
    "dan = int(input(\"원하는 단은 : \"))\n",
    "i = 1\n",
    "\n",
    "while i <= 9:\n",
    "    print(f\"{dan} * {i} = {dan*i}\")\n",
    "    i+=1"
   ]
  },
  {
   "cell_type": "code",
   "execution_count": 8,
   "metadata": {},
   "outputs": [],
   "source": [
    "#LAB 5-8 \n",
    "\n",
    "import turtle\n",
    "t = turtle.Turtle()\n",
    "t.shape(\"turtle\")\n",
    "i = 0\n",
    "while i < 5:\n",
    "    t.forward(50)\n",
    "    t.right(144)\n",
    "    i += 1"
   ]
  },
  {
   "cell_type": "code",
   "execution_count": 2,
   "metadata": {},
   "outputs": [],
   "source": [
    "#LAB 5-8-2\n",
    "\n",
    "import turtle\n",
    "t = turtle.Turtle()\n",
    "t.shape(\"turtle\")\n",
    "i = 0\n",
    "while i < 19:\n",
    "    t.forward(150)\n",
    "    t.right(140)\n",
    "    i += 1"
   ]
  },
  {
   "cell_type": "code",
   "execution_count": 1,
   "metadata": {},
   "outputs": [],
   "source": [
    "#LAB 5-8-3\n",
    "\n",
    "import turtle\n",
    "t = turtle.Turtle()\n",
    "t.shape(\"turtle\")\n",
    "\n",
    "i = 0\n",
    "while i < 5:\n",
    "    t.forward(150)\n",
    "    t.right(144)\n",
    "    t.forward(150)\n",
    "    t.left(72)\n",
    "    i += 1"
   ]
  },
  {
   "cell_type": "code",
   "execution_count": 2,
   "metadata": {},
   "outputs": [],
   "source": [
    "#LAB 5-9\n",
    "import turtle\n",
    "\n",
    "t = turtle.Turtle() \n",
    "t.speed(0)    # 거북이의 최고속도\n",
    "t.width(3)\n",
    "\n",
    "length = 10\n",
    "\n",
    "while length < 500:\n",
    "    t.forward(length)\n",
    "    t.right(89)\n",
    "    length += 5"
   ]
  },
  {
   "cell_type": "code",
   "execution_count": 1,
   "metadata": {},
   "outputs": [
    {
     "name": "stdout",
     "output_type": "stream",
     "text": [
      "숫자를 입력하시오 : 10\n",
      "계속? (yes / no) : y\n",
      "숫자를 입력하시오 : 20\n",
      "계속? (yes / no) : y\n",
      "숫자를 입력하시오 : 30\n",
      "계속? (yes / no) : no\n",
      "합계는 60\n"
     ]
    }
   ],
   "source": [
    "#LAB 5-10\n",
    "\n",
    "ans = \"\" \n",
    "total = 0 \n",
    "while True:\n",
    "    n =  int(input(\"숫자를 입력하시오 : \"))\n",
    "    total += n\n",
    "    ans = input(\"계속? (yes / no) : \")\n",
    "    if ans ==\"no\":\n",
    "        break\n",
    "print(\"합계는\",total)\n",
    "    "
   ]
  },
  {
   "cell_type": "code",
   "execution_count": 19,
   "metadata": {},
   "outputs": [
    {
     "name": "stdout",
     "output_type": "stream",
     "text": [
      "1부터 100까지의 숫자를 맞추시오\n",
      "숫자를 입력하시오 : 50\n",
      "down\n",
      "숫자를 입력하시오 : 30\n",
      "up\n",
      "숫자를 입력하시오 : 40\n",
      "up\n",
      "숫자를 입력하시오 : 45\n",
      "up\n",
      "숫자를 입력하시오 : 46\n",
      "up\n",
      "숫자를 입력하시오 : 47\n",
      "up\n",
      "숫자를 입력하시오 : 48\n",
      "총 시도횟수 = 7\n"
     ]
    }
   ],
   "source": [
    "#LAB 5-11 , 5-10\n",
    "+\n",
    "\n",
    "import random\n",
    "\n",
    "tries = 0\n",
    "guess = 0\n",
    "answer = random.randint(1,100)\n",
    "print(\"1부터 100까지의 숫자를 맞추시오\")\n",
    "while guess != answer:\n",
    "    guess = int(input(\"숫자를 입력하시오 : \"))\n",
    "    tries += 1\n",
    "    if guess < answer:\n",
    "        print(\"up\")\n",
    "    elif guess > answer:\n",
    "        print(\"down\")\n",
    "    if tries > 10:\n",
    "        print(\"실패!\")\n",
    "        break\n",
    "print(f\"총 시도횟수 = {tries}\")"
   ]
  },
  {
   "cell_type": "code",
   "execution_count": null,
   "metadata": {},
   "outputs": [],
   "source": [
    "#LAB 5-12\n",
    "\n",
    "import random\n",
    "\n",
    "count = 1\n",
    "\n",
    "while True:\n",
    "    \n",
    "    n1 = random.randint(1,100)\n",
    "    n2 = random.randint(1,100) \n",
    "    n = int(input(f\"{count}) {n1} + {n2} = \"))\n",
    "    count += 1\n",
    "    if n == n1+n2:\n",
    "        print(\"잘했어요!\\n\")\n",
    "    else:\n",
    "        print(f\"정답은 {n1+n2} 입니다. 다음엔 더 잘할 수 있죠?\")\n",
    "        break\n",
    "        \n",
    "        "
   ]
  },
  {
   "cell_type": "code",
   "execution_count": 1,
   "metadata": {},
   "outputs": [
    {
     "name": "stdout",
     "output_type": "stream",
     "text": [
      "1) 19 - 17 = 2\n",
      "잘했어요!\n",
      "\n",
      "2) 27 - 98 = -71\n",
      "잘했어요!\n",
      "\n",
      "3) 33 + 54 = 87\n",
      "잘했어요!\n",
      "\n",
      "4) 93 - 53 = 40\n",
      "잘했어요!\n",
      "\n",
      "5) 67 + 54 = 121\n",
      "잘했어요!\n",
      "\n",
      "6) 30 - 68 = -38\n",
      "잘했어요!\n",
      "\n",
      "7) 33 - 81 = 10.\n"
     ]
    },
    {
     "ename": "ValueError",
     "evalue": "invalid literal for int() with base 10: '10.'",
     "output_type": "error",
     "traceback": [
      "\u001b[1;31m---------------------------------------------------------------------------\u001b[0m",
      "\u001b[1;31mValueError\u001b[0m                                Traceback (most recent call last)",
      "\u001b[1;32m<ipython-input-1-7b94a6f8c8b2>\u001b[0m in \u001b[0;36m<module>\u001b[1;34m\u001b[0m\n\u001b[0;32m     12\u001b[0m         \u001b[0manswer\u001b[0m \u001b[1;33m=\u001b[0m \u001b[0mn1\u001b[0m \u001b[1;33m+\u001b[0m \u001b[0mn2\u001b[0m\u001b[1;33m\u001b[0m\u001b[1;33m\u001b[0m\u001b[0m\n\u001b[0;32m     13\u001b[0m     \u001b[1;32melse\u001b[0m\u001b[1;33m:\u001b[0m\u001b[1;33m\u001b[0m\u001b[1;33m\u001b[0m\u001b[0m\n\u001b[1;32m---> 14\u001b[1;33m         \u001b[0mn\u001b[0m \u001b[1;33m=\u001b[0m \u001b[0mint\u001b[0m\u001b[1;33m(\u001b[0m\u001b[0minput\u001b[0m\u001b[1;33m(\u001b[0m\u001b[1;34mf\"{count}) {n1} - {n2} = \"\u001b[0m\u001b[1;33m)\u001b[0m\u001b[1;33m)\u001b[0m\u001b[1;33m\u001b[0m\u001b[1;33m\u001b[0m\u001b[0m\n\u001b[0m\u001b[0;32m     15\u001b[0m         \u001b[0manswer\u001b[0m \u001b[1;33m=\u001b[0m \u001b[0mn1\u001b[0m \u001b[1;33m-\u001b[0m \u001b[0mn2\u001b[0m\u001b[1;33m\u001b[0m\u001b[1;33m\u001b[0m\u001b[0m\n\u001b[0;32m     16\u001b[0m \u001b[1;33m\u001b[0m\u001b[0m\n",
      "\u001b[1;31mValueError\u001b[0m: invalid literal for int() with base 10: '10.'"
     ]
    }
   ],
   "source": [
    "import random\n",
    "\n",
    "count = 1\n",
    "\n",
    "while True:\n",
    "    n1 = random.randint(1,100)\n",
    "    n2 = random.randint(1,100) \n",
    "    calc = random.randrange(2)\n",
    "    \n",
    "    if calc == 0:\n",
    "        n = int(input(f\"{count}) {n1} + {n2} = \"))\n",
    "        answer = n1 + n2\n",
    "    else:\n",
    "        n = int(input(f\"{count}) {n1} - {n2} = \"))\n",
    "        answer = n1 - n2\n",
    "   \n",
    "    if n == answer:\n",
    "        print(\"잘했어요!\\n\")\n",
    "        count+=1\n",
    "    else:\n",
    "        print(f\"정답은 {answer} 입니다. 다음엔 더 잘할 수 있죠?\")\n",
    "        break"
   ]
  },
  {
   "cell_type": "code",
   "execution_count": 15,
   "metadata": {},
   "outputs": [
    {
     "name": "stdout",
     "output_type": "stream",
     "text": [
      "달수네 샌두위치 가게의 가능한 조합\n",
      "\n",
      "호밀빵 + 미트볼 + 양상추 + 마요네즈\n",
      "호밀빵 + 미트볼 + 양상추 + 허니머스타드\n",
      "호밀빵 + 미트볼 + 양상추 + 칠리\n",
      "호밀빵 + 미트볼 + 토마토 + 마요네즈\n",
      "호밀빵 + 미트볼 + 토마토 + 허니머스타드\n",
      "호밀빵 + 미트볼 + 토마토 + 칠리\n",
      "호밀빵 + 미트볼 + 오이 + 마요네즈\n",
      "호밀빵 + 미트볼 + 오이 + 허니머스타드\n",
      "호밀빵 + 미트볼 + 오이 + 칠리\n",
      "호밀빵 + 소시지 + 양상추 + 마요네즈\n",
      "호밀빵 + 소시지 + 양상추 + 허니머스타드\n",
      "호밀빵 + 소시지 + 양상추 + 칠리\n",
      "호밀빵 + 소시지 + 토마토 + 마요네즈\n",
      "호밀빵 + 소시지 + 토마토 + 허니머스타드\n",
      "호밀빵 + 소시지 + 토마토 + 칠리\n",
      "호밀빵 + 소시지 + 오이 + 마요네즈\n",
      "호밀빵 + 소시지 + 오이 + 허니머스타드\n",
      "호밀빵 + 소시지 + 오이 + 칠리\n",
      "호밀빵 + 닭가슴살 + 양상추 + 마요네즈\n",
      "호밀빵 + 닭가슴살 + 양상추 + 허니머스타드\n",
      "호밀빵 + 닭가슴살 + 양상추 + 칠리\n",
      "호밀빵 + 닭가슴살 + 토마토 + 마요네즈\n",
      "호밀빵 + 닭가슴살 + 토마토 + 허니머스타드\n",
      "호밀빵 + 닭가슴살 + 토마토 + 칠리\n",
      "호밀빵 + 닭가슴살 + 오이 + 마요네즈\n",
      "호밀빵 + 닭가슴살 + 오이 + 허니머스타드\n",
      "호밀빵 + 닭가슴살 + 오이 + 칠리\n",
      "\n",
      "위트 + 미트볼 + 양상추 + 마요네즈\n",
      "위트 + 미트볼 + 양상추 + 허니머스타드\n",
      "위트 + 미트볼 + 양상추 + 칠리\n",
      "위트 + 미트볼 + 토마토 + 마요네즈\n",
      "위트 + 미트볼 + 토마토 + 허니머스타드\n",
      "위트 + 미트볼 + 토마토 + 칠리\n",
      "위트 + 미트볼 + 오이 + 마요네즈\n",
      "위트 + 미트볼 + 오이 + 허니머스타드\n",
      "위트 + 미트볼 + 오이 + 칠리\n",
      "위트 + 소시지 + 양상추 + 마요네즈\n",
      "위트 + 소시지 + 양상추 + 허니머스타드\n",
      "위트 + 소시지 + 양상추 + 칠리\n",
      "위트 + 소시지 + 토마토 + 마요네즈\n",
      "위트 + 소시지 + 토마토 + 허니머스타드\n",
      "위트 + 소시지 + 토마토 + 칠리\n",
      "위트 + 소시지 + 오이 + 마요네즈\n",
      "위트 + 소시지 + 오이 + 허니머스타드\n",
      "위트 + 소시지 + 오이 + 칠리\n",
      "위트 + 닭가슴살 + 양상추 + 마요네즈\n",
      "위트 + 닭가슴살 + 양상추 + 허니머스타드\n",
      "위트 + 닭가슴살 + 양상추 + 칠리\n",
      "위트 + 닭가슴살 + 토마토 + 마요네즈\n",
      "위트 + 닭가슴살 + 토마토 + 허니머스타드\n",
      "위트 + 닭가슴살 + 토마토 + 칠리\n",
      "위트 + 닭가슴살 + 오이 + 마요네즈\n",
      "위트 + 닭가슴살 + 오이 + 허니머스타드\n",
      "위트 + 닭가슴살 + 오이 + 칠리\n",
      "\n",
      "화이트 + 미트볼 + 양상추 + 마요네즈\n",
      "화이트 + 미트볼 + 양상추 + 허니머스타드\n",
      "화이트 + 미트볼 + 양상추 + 칠리\n",
      "화이트 + 미트볼 + 토마토 + 마요네즈\n",
      "화이트 + 미트볼 + 토마토 + 허니머스타드\n",
      "화이트 + 미트볼 + 토마토 + 칠리\n",
      "화이트 + 미트볼 + 오이 + 마요네즈\n",
      "화이트 + 미트볼 + 오이 + 허니머스타드\n",
      "화이트 + 미트볼 + 오이 + 칠리\n",
      "화이트 + 소시지 + 양상추 + 마요네즈\n",
      "화이트 + 소시지 + 양상추 + 허니머스타드\n",
      "화이트 + 소시지 + 양상추 + 칠리\n",
      "화이트 + 소시지 + 토마토 + 마요네즈\n",
      "화이트 + 소시지 + 토마토 + 허니머스타드\n",
      "화이트 + 소시지 + 토마토 + 칠리\n",
      "화이트 + 소시지 + 오이 + 마요네즈\n",
      "화이트 + 소시지 + 오이 + 허니머스타드\n",
      "화이트 + 소시지 + 오이 + 칠리\n",
      "화이트 + 닭가슴살 + 양상추 + 마요네즈\n",
      "화이트 + 닭가슴살 + 양상추 + 허니머스타드\n",
      "화이트 + 닭가슴살 + 양상추 + 칠리\n",
      "화이트 + 닭가슴살 + 토마토 + 마요네즈\n",
      "화이트 + 닭가슴살 + 토마토 + 허니머스타드\n",
      "화이트 + 닭가슴살 + 토마토 + 칠리\n",
      "화이트 + 닭가슴살 + 오이 + 마요네즈\n",
      "화이트 + 닭가슴살 + 오이 + 허니머스타드\n",
      "화이트 + 닭가슴살 + 오이 + 칠리\n",
      "\n"
     ]
    }
   ],
   "source": [
    "#LAB 5-13\n",
    "bread = [\"호밀빵\",\"위트\",\"화이트\"]\n",
    "meat = [\"미트볼\",\"소시지\",\"닭가슴살\"]\n",
    "vegetable = [\"양상추\",\"토마토\",\"오이\"]\n",
    "sauce = [\"마요네즈\",\"허니머스타드\",\"칠리\"]\n",
    "\n",
    "print(\"달수네 샌두위치 가게의 가능한 조합\\n\")\n",
    "for a in bread:\n",
    "    for b in meat:\n",
    "        for c in vegetable:\n",
    "            for d in sauce:\n",
    "                print(f\"{a} + {b} + {c} + {d}\")\n",
    "    print()"
   ]
  },
  {
   "cell_type": "code",
   "execution_count": 18,
   "metadata": {},
   "outputs": [
    {
     "name": "stdout",
     "output_type": "stream",
     "text": [
      "단어를 입력하세요: programming\n",
      "pr"
     ]
    }
   ],
   "source": [
    "#5-12\n",
    "word = input(\"단어를 입력하세요: \")\n",
    "\n",
    "for a in word:\n",
    "    if a in ['a','e','i','o','u','A',\"E\",\"I\",\"O\",\"U\"]:\n",
    "        break\n",
    "    print(a, end=\"\")"
   ]
  },
  {
   "cell_type": "code",
   "execution_count": 24,
   "metadata": {},
   "outputs": [
    {
     "name": "stdout",
     "output_type": "stream",
     "text": [
      "I Like Python and Java\n",
      "I Like Java and Python\n",
      "I Like Python,Python,Python\n",
      "0.33, 0.333\n",
      "  2    4     8\n",
      "  4   16    64\n",
      "  6   36   216\n",
      "  8   64   512\n",
      " 10  100  1000\n"
     ]
    }
   ],
   "source": [
    "#실습 5-11\n",
    "\n",
    "print(\"I Like {0} and {1}\".format(\"Python\",\"Java\"))\n",
    "\n",
    "print(\"I Like {1} and {0}\".format(\"Python\",\"Java\"))\n",
    "\n",
    "print(\"I Like {0},{0},{0}\".format(\"Python\",\"Java\"))\n",
    "\n",
    "print(\"{0:.2f}, {0:.3f}\".format(1/3))\n",
    "\n",
    "for i in range(2,11,2):\n",
    "    print('{0:3d} {1:4d} {2:5d}'.format(i, i*i, i*i*i))"
   ]
  }
 ],
 "metadata": {
  "kernelspec": {
   "display_name": "Python 3",
   "language": "python",
   "name": "python3"
  },
  "language_info": {
   "codemirror_mode": {
    "name": "ipython",
    "version": 3
   },
   "file_extension": ".py",
   "mimetype": "text/x-python",
   "name": "python",
   "nbconvert_exporter": "python",
   "pygments_lexer": "ipython3",
   "version": "3.8.5"
  }
 },
 "nbformat": 4,
 "nbformat_minor": 4
}
